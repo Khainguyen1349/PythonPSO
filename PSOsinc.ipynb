{
 "cells": [
  {
   "cell_type": "markdown",
   "metadata": {},
   "source": [
    "# This is my first try to integrate Particle Swam Optimization on Python"
   ]
  },
  {
   "cell_type": "markdown",
   "metadata": {},
   "source": [
    "## This algorithim is based on behavior of swam of bees looking for a bounded region where flowers are the most blossom \n",
    "This test is to find the maximum of *sinc(x)*sinc(y)"
   ]
  },
  {
   "cell_type": "code",
   "execution_count": 1,
   "metadata": {},
   "outputs": [],
   "source": [
    "import numpy as np\n",
    "import matplotlib.pyplot as plt\n",
    "\n",
    "w = 0.5\n",
    "c1 = 2\n",
    "c2 = 2\n",
    "max_iter = 1000"
   ]
  },
  {
   "cell_type": "markdown",
   "metadata": {},
   "source": [
    "### First step\n",
    "Define the Solution Space\n",
    "\n",
    "Five bees, or better-5 particles, will be assigned to the task to look for the best position in their so-called Solution Space. This space is 2D, as each agent needs 2 variables to define its location"
   ]
  },
  {
   "cell_type": "code",
   "execution_count": 2,
   "metadata": {},
   "outputs": [
    {
     "data": {
      "text/plain": [
       "array([[-1,  1],\n",
       "       [-1,  1]])"
      ]
     },
     "execution_count": 2,
     "metadata": {},
     "output_type": "execute_result"
    }
   ],
   "source": [
    "agent_quantity = 5\n",
    "space_dimention = 2\n",
    "agent_bound = np.array([[-1, 1],[-1, 1]])\n",
    "agent_bound"
   ]
  },
  {
   "cell_type": "code",
   "execution_count": 3,
   "metadata": {},
   "outputs": [
    {
     "data": {
      "text/plain": [
       "array([[0.],\n",
       "       [0.],\n",
       "       [0.],\n",
       "       [0.],\n",
       "       [0.]])"
      ]
     },
     "execution_count": 3,
     "metadata": {},
     "output_type": "execute_result"
    }
   ],
   "source": [
    "pbest = np.zeros([agent_quantity,1])\n",
    "pbest"
   ]
  },
  {
   "cell_type": "markdown",
   "metadata": {},
   "source": [
    "### Second step\n",
    "Define a fitness function"
   ]
  },
  {
   "cell_type": "code",
   "execution_count": 4,
   "metadata": {},
   "outputs": [],
   "source": [
    "def fitness(agent):\n",
    "    fitness = np.sinc(agent[0])*np.sinc(agent[1])\n",
    "    return fitness"
   ]
  },
  {
   "cell_type": "markdown",
   "metadata": {},
   "source": [
    "### Third step \n",
    "Initialize Random Swam Location and Velocities"
   ]
  },
  {
   "cell_type": "code",
   "execution_count": 5,
   "metadata": {},
   "outputs": [
    {
     "data": {
      "text/plain": [
       "array([[-0.54520574, -0.08427171],\n",
       "       [-0.3317538 ,  0.16542409],\n",
       "       [ 0.49734077,  0.40825642],\n",
       "       [-0.90357132, -0.52910881],\n",
       "       [ 0.42934525,  0.38824304]])"
      ]
     },
     "execution_count": 5,
     "metadata": {},
     "output_type": "execute_result"
    }
   ],
   "source": [
    "agent_location = 2*np.random.random_sample((agent_quantity, 2))-1\n",
    "agent_location"
   ]
  },
  {
   "cell_type": "markdown",
   "metadata": {},
   "source": [
    "*pbest at first is also the first swam"
   ]
  },
  {
   "cell_type": "code",
   "execution_count": 6,
   "metadata": {},
   "outputs": [],
   "source": [
    "agent_pbest = agent_location"
   ]
  },
  {
   "cell_type": "code",
   "execution_count": 7,
   "metadata": {},
   "outputs": [
    {
     "data": {
      "text/plain": [
       "array([[ 0.2357438 , -0.11177736],\n",
       "       [-0.69038835,  0.35173797],\n",
       "       [-0.96453209,  0.65324064],\n",
       "       [ 0.82147237,  0.45504091],\n",
       "       [-0.5873627 , -0.42894691]])"
      ]
     },
     "execution_count": 7,
     "metadata": {},
     "output_type": "execute_result"
    }
   ],
   "source": [
    "agent_velocity = 2*np.random.random_sample((agent_quantity, 2))-1\n",
    "agent_velocity"
   ]
  },
  {
   "cell_type": "markdown",
   "metadata": {},
   "source": [
    "### Fourth step\n",
    "Systematically Fly the Particles Through the Solution Space\n",
    "\n",
    "a) Evaluate the Particles's Fitness, Compare to gbest, pbest"
   ]
  },
  {
   "cell_type": "code",
   "execution_count": 8,
   "metadata": {},
   "outputs": [
    {
     "data": {
      "text/plain": [
       "array([[0.57122862],\n",
       "       [0.79174465],\n",
       "       [0.478414  ],\n",
       "       [0.06296037],\n",
       "       [0.55675756]])"
      ]
     },
     "execution_count": 8,
     "metadata": {},
     "output_type": "execute_result"
    }
   ],
   "source": [
    "agent_fitness = np.zeros([agent_quantity,1])\n",
    "for i in range(0,agent_quantity):\n",
    "    agent_fitness[i] = fitness(agent_location[i])\n",
    "    if agent_fitness[i] > pbest[i]:\n",
    "            pbest[i] = agent_fitness[i]\n",
    "            agent_pbest[i] = agent_location[i]\n",
    "    \n",
    "pbest"
   ]
  },
  {
   "cell_type": "code",
   "execution_count": 9,
   "metadata": {},
   "outputs": [
    {
     "data": {
      "text/plain": [
       "0.7917446497668565"
      ]
     },
     "execution_count": 9,
     "metadata": {},
     "output_type": "execute_result"
    }
   ],
   "source": [
    "gbest = pbest.max()\n",
    "gbest_position = pbest.argmax()\n",
    "gbest"
   ]
  },
  {
   "cell_type": "code",
   "execution_count": 10,
   "metadata": {},
   "outputs": [
    {
     "data": {
      "text/plain": [
       "1"
      ]
     },
     "execution_count": 10,
     "metadata": {},
     "output_type": "execute_result"
    }
   ],
   "source": [
    "gbest_position"
   ]
  },
  {
   "cell_type": "code",
   "execution_count": 11,
   "metadata": {},
   "outputs": [
    {
     "data": {
      "text/plain": [
       "array([-0.3317538 ,  0.16542409])"
      ]
     },
     "execution_count": 11,
     "metadata": {},
     "output_type": "execute_result"
    }
   ],
   "source": [
    "agent_pbest[gbest_position]"
   ]
  },
  {
   "cell_type": "markdown",
   "metadata": {},
   "source": [
    "b) Update the Particle's velocity "
   ]
  },
  {
   "cell_type": "code",
   "execution_count": 12,
   "metadata": {},
   "outputs": [
    {
     "data": {
      "text/plain": [
       "array([[ 0.32152191,  0.18234083],\n",
       "       [-0.34519417,  0.17586898],\n",
       "       [-0.84966403,  0.21901364],\n",
       "       [ 0.47784329,  0.30902914],\n",
       "       [-1.62412607, -0.60397373]])"
      ]
     },
     "execution_count": 12,
     "metadata": {},
     "output_type": "execute_result"
    }
   ],
   "source": [
    "for i in range(0,agent_quantity):\n",
    "    agent_velocity[i] = w*agent_velocity[i] + c1*np.random.rand()*(agent_pbest[i] - agent_location[i]) + c2*np.random.rand()*(agent_pbest[gbest_position]- agent_location[i])\n",
    "    \n",
    "agent_velocity"
   ]
  },
  {
   "cell_type": "markdown",
   "metadata": {},
   "source": [
    "c) Move the particle"
   ]
  },
  {
   "cell_type": "code",
   "execution_count": 13,
   "metadata": {},
   "outputs": [
    {
     "data": {
      "text/plain": [
       "array([[-0.22368383,  0.09806913],\n",
       "       [-0.67694798,  0.34129307],\n",
       "       [-0.35232327,  0.62727006],\n",
       "       [-0.42572803, -0.22007966],\n",
       "       [-0.80521918, -0.2157307 ]])"
      ]
     },
     "execution_count": 13,
     "metadata": {},
     "output_type": "execute_result"
    }
   ],
   "source": [
    "agent_location = agent_location + agent_velocity\n",
    "for i in range(0,agent_quantity):\n",
    "    for j in range(0,space_dimention):\n",
    "        if agent_location[i][j] > agent_bound[j][1]:\n",
    "            agent_location[i][j] = 2*agent_bound[j][1] - agent_location[i][j]\n",
    "        if agent_location[i][j] < agent_bound[j][0]:\n",
    "            agent_location[i][j] = 2*agent_bound[j][0] - agent_location[i][j]\n",
    "        \n",
    "agent_location"
   ]
  },
  {
   "cell_type": "markdown",
   "metadata": {},
   "source": [
    "### Fifth step\n",
    "Repeat everything in Step 4 untill iteration being out of range "
   ]
  },
  {
   "cell_type": "code",
   "execution_count": 14,
   "metadata": {},
   "outputs": [
    {
     "data": {
      "text/plain": [
       "1.0"
      ]
     },
     "execution_count": 14,
     "metadata": {},
     "output_type": "execute_result"
    }
   ],
   "source": [
    "for k in range(1,max_iter):\n",
    "    # Step 4a\n",
    "    for i in range(0,agent_quantity):\n",
    "        agent_fitness[i] = fitness(agent_location[i])\n",
    "        if agent_fitness[i] > pbest[i]:\n",
    "            pbest[i] = agent_fitness[i]\n",
    "            agent_pbest[i] = agent_location[i]\n",
    "    \n",
    "    gbest = pbest.max()\n",
    "    gbest_position = pbest.argmax()\n",
    "    # Step 4b\n",
    "    for i in range(0,agent_quantity):\n",
    "        agent_velocity[i] = w*agent_velocity[i] + c1*np.random.rand()*(agent_pbest[i] - agent_location[i]) + c2*np.random.rand()*(agent_pbest[gbest_position]- agent_location[i])\n",
    "    \n",
    "    # Step 4c\n",
    "    agent_location = agent_location + agent_velocity\n",
    "    for i in range(0,agent_quantity):\n",
    "        for j in range(0,space_dimention):\n",
    "            if agent_location[i][j] > agent_bound[j][1]:\n",
    "                agent_location[i][j] = 2*agent_bound[j][1] - agent_location[i][j]\n",
    "            if agent_location[i][j] < agent_bound[j][0]:\n",
    "                agent_location[i][j] = 2*agent_bound[j][0] - agent_location[i][j]\n",
    "                \n",
    "            \n",
    "gbest"
   ]
  },
  {
   "cell_type": "code",
   "execution_count": 15,
   "metadata": {},
   "outputs": [
    {
     "data": {
      "text/plain": [
       "0"
      ]
     },
     "execution_count": 15,
     "metadata": {},
     "output_type": "execute_result"
    }
   ],
   "source": [
    "gbest_position"
   ]
  },
  {
   "cell_type": "code",
   "execution_count": 16,
   "metadata": {},
   "outputs": [
    {
     "data": {
      "text/plain": [
       "array([[1.],\n",
       "       [1.],\n",
       "       [1.],\n",
       "       [1.],\n",
       "       [1.]])"
      ]
     },
     "execution_count": 16,
     "metadata": {},
     "output_type": "execute_result"
    }
   ],
   "source": [
    "pbest"
   ]
  },
  {
   "cell_type": "code",
   "execution_count": 17,
   "metadata": {},
   "outputs": [
    {
     "data": {
      "text/plain": [
       "array([[-4.96193279e-09, -3.50490060e-09],\n",
       "       [-8.89138497e-10,  4.28360722e-09],\n",
       "       [-9.96504344e-10, -6.57946199e-09],\n",
       "       [ 1.43011164e-10, -2.90738762e-09],\n",
       "       [-2.25023345e-11,  1.94488201e-09]])"
      ]
     },
     "execution_count": 17,
     "metadata": {},
     "output_type": "execute_result"
    }
   ],
   "source": [
    "agent_pbest"
   ]
  }
 ],
 "metadata": {
  "kernelspec": {
   "display_name": "Python 3",
   "language": "python",
   "name": "python3"
  },
  "language_info": {
   "codemirror_mode": {
    "name": "ipython",
    "version": 3
   },
   "file_extension": ".py",
   "mimetype": "text/x-python",
   "name": "python",
   "nbconvert_exporter": "python",
   "pygments_lexer": "ipython3",
   "version": "3.6.5"
  }
 },
 "nbformat": 4,
 "nbformat_minor": 2
}
