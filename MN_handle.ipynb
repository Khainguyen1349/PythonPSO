{
 "cells": [
  {
   "cell_type": "markdown",
   "metadata": {},
   "source": [
    "# Matching Network handling"
   ]
  },
  {
   "cell_type": "markdown",
   "metadata": {},
   "source": [
    "*NOTE* Suppose I have a MN of 5 component like this:\n",
    "\n",
    "*-----L2-------------------C3---------------C1------------------*\n",
    "\n",
    "           |             |             |\n",
    "           \n",
    "           L1             C2             Z_load\n",
    "           \n",
    "           |             |             |\n",
    "      \n",
    "*------------------------------------------------------------*"
   ]
  },
  {
   "cell_type": "code",
   "execution_count": 1,
   "metadata": {},
   "outputs": [],
   "source": [
    "import numpy as np"
   ]
  },
  {
   "cell_type": "markdown",
   "metadata": {},
   "source": [
    "Let's try to simplify the parallel or series type of a circuit"
   ]
  },
  {
   "cell_type": "code",
   "execution_count": 2,
   "metadata": {},
   "outputs": [],
   "source": [
    "def parallel(Z1, Z2):\n",
    "    return 1/(1/Z1 + 1/Z2)\n",
    "\n",
    "def series(Z1, Z2): \n",
    "    return Z1 + Z2"
   ]
  },
  {
   "cell_type": "markdown",
   "metadata": {},
   "source": [
    "Then, I assign type (R/L/C), connection orientation (ser/par) and values of 5 components, respectively:"
   ]
  },
  {
   "cell_type": "code",
   "execution_count": 2,
   "metadata": {},
   "outputs": [
    {
     "data": {
      "text/plain": [
       "'C'"
      ]
     },
     "execution_count": 2,
     "metadata": {},
     "output_type": "execute_result"
    }
   ],
   "source": [
    "num_component = 5\n",
    "\n",
    "com1 = ('C','ser',10*1e-12)\n",
    "com2 = ('C', 'par', 20*1e-12)\n",
    "com3 = ('C', 'ser', 30*1e-12)\n",
    "com4 = ('L', 'par', 40*1e-9)\n",
    "com5 = ('L', 'ser', 50*1e-9)\n",
    "components = (com1, com2, com3, com4, com5)\n",
    "components[3][1]"
   ]
  },
  {
   "cell_type": "markdown",
   "metadata": {},
   "source": [
    "Suppose I'm working @2GHz and Z_load is perfectly matched @50Ohm"
   ]
  },
  {
   "cell_type": "code",
   "execution_count": 4,
   "metadata": {},
   "outputs": [],
   "source": [
    "freq = 2e9\n",
    "Z_load = 50"
   ]
  },
  {
   "cell_type": "markdown",
   "metadata": {},
   "source": [
    "Lets make a function of output impedance from scratch. At first, try to change the circuit into impedances type\n",
    "\n",
    "*-----ZL2-------------------ZC3---------------ZC1----------*\n",
    "\n",
    "           |             |             |\n",
    "           \n",
    "           ZL1           ZC2          Z_load\n",
    "           \n",
    "           |             |             |\n",
    "      \n",
    "*------------------------------------------------------------*"
   ]
  },
  {
   "cell_type": "code",
   "execution_count": 5,
   "metadata": {},
   "outputs": [],
   "source": [
    "def out_impedance(num_component, components, freq, Z_load):\n",
    "    Z = np.zeros((num_component+1,),dtype = complex)\n",
    "    Z_out = np.zeros((num_component+1,),dtype = complex)\n",
    "    # calculate impedance of each component\n",
    "    Z[0] = Z_load\n",
    "    print (Z[0],end = '   ')\n",
    "    for i in range(num_component):\n",
    "        if components[i][0] == 'C':\n",
    "            Z[i+1] = 1/(1j*2*np.pi*freq*components[i][2])\n",
    "        elif components[i][0] == 'L':\n",
    "            Z[i+1] = 1j*2*np.pi*freq*components[i][2]\n",
    "        else:\n",
    "            Z[i+1] = components[i][2]\n",
    "    # calculate result\n",
    "    Z_out[0] = Z_load\n",
    "    for i in range(num_component):\n",
    "        if components[i][1] == 'ser':\n",
    "            Z_out[i+1] = series(Z_out[i], Z[i+1])\n",
    "        else:\n",
    "            Z_out[i+1] = parallel(Z_out[i], Z[i+1])\n",
    "        print ('\\n Zout', i+1,' :', Z_out[i+1])\n",
    "    return Z_out[num_component]"
   ]
  },
  {
   "cell_type": "markdown",
   "metadata": {},
   "source": [
    "Finally, simply call the function"
   ]
  },
  {
   "cell_type": "code",
   "execution_count": 6,
   "metadata": {},
   "outputs": [
    {
     "name": "stdout",
     "output_type": "stream",
     "text": [
      "(50+0j)   \n",
      " Zout 1  : (50-7.9577471545947684j)\n",
      "\n",
      " Zout 2  : (0.2995560511907528-3.9073598378772387j)\n",
      "\n",
      " Zout 3  : (0.2995560511907528-6.55994222274216j)\n",
      "\n",
      " Zout 4  : (0.30753047248010074-6.646499695675982j)\n",
      "\n",
      " Zout 5  : (0.30753047248010074+621.6720310222827j)\n",
      "\n",
      " Output impedance is: (0.30753047248010074+621.6720310222827j)\n"
     ]
    }
   ],
   "source": [
    "Zout = out_impedance(num_component, components, freq, Z_load)\n",
    "print ('\\n Output impedance is:', Zout)"
   ]
  },
  {
   "cell_type": "code",
   "execution_count": null,
   "metadata": {},
   "outputs": [],
   "source": []
  }
 ],
 "metadata": {
  "kernelspec": {
   "display_name": "Python 3",
   "language": "python",
   "name": "python3"
  },
  "language_info": {
   "codemirror_mode": {
    "name": "ipython",
    "version": 3
   },
   "file_extension": ".py",
   "mimetype": "text/x-python",
   "name": "python",
   "nbconvert_exporter": "python",
   "pygments_lexer": "ipython3",
   "version": "3.6.5"
  }
 },
 "nbformat": 4,
 "nbformat_minor": 2
}
