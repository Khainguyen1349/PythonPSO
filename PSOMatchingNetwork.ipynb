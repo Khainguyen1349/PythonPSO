{
 "cells": [
  {
   "cell_type": "markdown",
   "metadata": {},
   "source": [
    "# Apply PSO on Matching Network Optimization\n",
    "From separate code on PSO and Matching Network, it's time to merge these 2 to make an optimization for MN"
   ]
  },
  {
   "cell_type": "code",
   "execution_count": 1,
   "metadata": {},
   "outputs": [],
   "source": [
    "import numpy as np\n",
    "import matplotlib.pyplot as plt"
   ]
  },
  {
   "cell_type": "markdown",
   "metadata": {},
   "source": [
    "----------------------------------------------------------\n",
    "## I. Define Matching Network\n",
    "\n",
    "Still, suppose I have a MN of 5 component like this:\n",
    "\n",
    "*-------------L2-------------------C3---------------C1---------------*\n",
    "\n",
    "     |          |             |             |\n",
    "           \n",
    "    Z_out      L1             C2             Z_load\n",
    "           \n",
    "     |          |             |             |\n",
    "      \n",
    "*---------------------------------------------------------------------*\n",
    "\n",
    "and Z_load is not matched at 50Ohm, so with help from MN, I expect to get Z_out matched\n",
    "\n",
    "Let's try to simplify the parallel or series type of a circuit"
   ]
  },
  {
   "cell_type": "code",
   "execution_count": 2,
   "metadata": {},
   "outputs": [],
   "source": [
    "def parallel(Z1, Z2):\n",
    "    return 1/(1/Z1 + 1/Z2)\n",
    "\n",
    "def series(Z1, Z2): \n",
    "    return Z1 + Z2"
   ]
  },
  {
   "cell_type": "markdown",
   "metadata": {},
   "source": [
    "Then, I assign type (R/L/C), connection orientation (ser/par), lowest and highest values of 5 components, respectively:"
   ]
  },
  {
   "cell_type": "code",
   "execution_count": 3,
   "metadata": {},
   "outputs": [],
   "source": [
    "num_component = 5\n",
    "\n",
    "component_type = ('C', 'C', 'C', 'L', 'L')\n",
    "component_topology = ('ser', 'par','ser', 'par','ser')\n",
    "range_C = (1e-12, 100e-12)\n",
    "range_distance_C = range_C[1] - range_C[0]\n",
    "range_L = (1e-9, 100e-9)\n",
    "range_distance_L = range_L[1] - range_L[0]"
   ]
  },
  {
   "cell_type": "markdown",
   "metadata": {},
   "source": [
    "And the function to calculate output impedance from Z load and MN\n",
    "\n",
    "*note: for component type: 0 - C, 1 - L, 2 - R; for component placement: 0 - series, 1 - parallel*"
   ]
  },
  {
   "cell_type": "code",
   "execution_count": 4,
   "metadata": {},
   "outputs": [],
   "source": [
    "def out_impedance(num_component, components, freq, Z_load):\n",
    "    Z = np.zeros((num_component+1,),dtype = complex)\n",
    "    Z_out = np.zeros((num_component+1,),dtype = complex)\n",
    "    # calculate impedance of each component\n",
    "    Z[0] = Z_load\n",
    "    #print (Z[0],end = '   ')\n",
    "    for i in range(num_component):\n",
    "        if components[i][0] == 0: # C\n",
    "            Z[i+1] = 1/(1j*2*np.pi*freq*components[i][2])\n",
    "        elif components[i][0] == 1: # L\n",
    "            Z[i+1] = 1j*2*np.pi*freq*components[i][2]\n",
    "        else: # R\n",
    "            Z[i+1] = components[i][2]\n",
    "    # calculate result\n",
    "    Z_out[0] = Z_load\n",
    "    for i in range(num_component):\n",
    "        if components[i][1] == 0: # series\n",
    "            Z_out[i+1] = series(Z_out[i], Z[i+1])\n",
    "        else:                     # parallel\n",
    "            Z_out[i+1] = parallel(Z_out[i], Z[i+1])\n",
    "        #print ('\\n Zout', i+1,' :', Z_out[i+1])\n",
    "    return Z_out[num_component]"
   ]
  },
  {
   "cell_type": "markdown",
   "metadata": {},
   "source": [
    "---------------------------------------------\n",
    "## II. Apply PSO\n",
    "General parameters of PSO are defined here, meaning of them is *PSOsinc* notebook\n"
   ]
  },
  {
   "cell_type": "code",
   "execution_count": 5,
   "metadata": {},
   "outputs": [],
   "source": [
    "w = 0.3\n",
    "c1 = 2\n",
    "c2 = 2\n",
    "max_iter = 1000\n",
    "freq = 1e+9\n",
    "Z_load = 20\n",
    "Z0 = 50"
   ]
  },
  {
   "cell_type": "markdown",
   "metadata": {},
   "source": [
    "### First step\n",
    "Define the Solution Space\n",
    "\n",
    "10 bees, or better-10 particles, will be assigned to the task to look for the best position in their so-called Solution Space. This space is 5D, as each agent needs 5 variables to define its location, seem unrealistic hah? :v"
   ]
  },
  {
   "cell_type": "code",
   "execution_count": 6,
   "metadata": {},
   "outputs": [
    {
     "data": {
      "text/plain": [
       "array([[1.e-12, 1.e-10],\n",
       "       [1.e-12, 1.e-10],\n",
       "       [1.e-12, 1.e-10],\n",
       "       [1.e-09, 1.e-07],\n",
       "       [1.e-09, 1.e-07]])"
      ]
     },
     "execution_count": 6,
     "metadata": {},
     "output_type": "execute_result"
    }
   ],
   "source": [
    "agent_quantity = 10\n",
    "space_dimention = 5\n",
    "agent_bound = np.zeros([num_component,2])\n",
    "for i in range(space_dimention):\n",
    "    if component_type[i] == 'C':\n",
    "        agent_bound[i] = range_C\n",
    "    else:\n",
    "        agent_bound[i] = range_L\n",
    "agent_bound"
   ]
  },
  {
   "cell_type": "markdown",
   "metadata": {},
   "source": [
    "### Second step\n",
    "Define a fitness function. In this case, it's the S11 at given frequency"
   ]
  },
  {
   "cell_type": "code",
   "execution_count": 7,
   "metadata": {},
   "outputs": [
    {
     "data": {
      "text/plain": [
       "0.0015327902737268806"
      ]
     },
     "execution_count": 7,
     "metadata": {},
     "output_type": "execute_result"
    }
   ],
   "source": [
    "def fitness(agent):\n",
    "    components = np.zeros([num_component,3])\n",
    "    for i in range(num_component):\n",
    "        # Component type\n",
    "        if component_type[i] == 'C':\n",
    "            components[i][0] = 0 # C\n",
    "        elif component_type[i] == 'L':\n",
    "            components[i][0] = 1 # L\n",
    "        else:\n",
    "            components[i][0] = 1 # R\n",
    "        # Component placement\n",
    "        if component_topology[i] == 'ser':\n",
    "            components[i][1] = 0\n",
    "        else:\n",
    "            components[i][1] = 1\n",
    "        # Component value\n",
    "        components[i][2] = agent[i]\n",
    "        \n",
    "    #print(components)\n",
    "    Z_out = out_impedance(num_component, components, freq, Z_load)\n",
    "    fitness = np.abs((Z_out - Z0)/(Z_out + Z0))\n",
    "    return 1 - fitness\n",
    "# Check fitness function\n",
    "fitness([10e-12, 20e-12, 30e-12, 40e-9, 50e-9])"
   ]
  },
  {
   "cell_type": "markdown",
   "metadata": {},
   "source": [
    "### Third step \n",
    "Initialize Random Swam Location and Velocities"
   ]
  },
  {
   "cell_type": "code",
   "execution_count": 8,
   "metadata": {},
   "outputs": [
    {
     "data": {
      "text/plain": [
       "array([[2.03383543e-11, 3.92092068e-11, 1.34171893e-12, 7.91518731e-08,\n",
       "        2.44024426e-08],\n",
       "       [5.48132533e-11, 9.30961263e-11, 3.41257071e-11, 5.20681290e-08,\n",
       "        9.73759757e-08],\n",
       "       [2.39897202e-11, 7.66801794e-11, 9.03480937e-11, 8.28755832e-08,\n",
       "        1.69112177e-08],\n",
       "       [9.91647645e-11, 2.61158459e-11, 5.81380199e-11, 6.05105947e-08,\n",
       "        5.21793791e-08],\n",
       "       [6.18434721e-11, 7.31386591e-11, 3.71935054e-11, 5.34953099e-08,\n",
       "        8.10327175e-08],\n",
       "       [5.12662253e-11, 5.21509601e-11, 1.08876282e-11, 8.76656847e-08,\n",
       "        4.55831498e-08],\n",
       "       [7.04804519e-11, 4.79846917e-11, 8.84772814e-12, 3.20050150e-09,\n",
       "        8.06631832e-08],\n",
       "       [5.13803594e-11, 9.36802325e-11, 8.73947958e-11, 7.58340362e-08,\n",
       "        3.12653268e-08],\n",
       "       [9.07755480e-11, 6.23909610e-11, 5.59170773e-11, 2.47415928e-08,\n",
       "        2.28519390e-08],\n",
       "       [8.64555283e-11, 7.22065694e-11, 9.90091328e-11, 3.05861431e-08,\n",
       "        6.05686852e-08]])"
      ]
     },
     "execution_count": 8,
     "metadata": {},
     "output_type": "execute_result"
    }
   ],
   "source": [
    "agent_location = np.zeros([agent_quantity, space_dimention])\n",
    "for i in range(space_dimention):\n",
    "    if component_type[i] == 'C':\n",
    "        for j in range(agent_quantity):\n",
    "            agent_location[j][i] = range_distance_C*np.random.rand()+range_C[0]\n",
    "    elif component_type[i] == 'L':\n",
    "        for j in range(agent_quantity):\n",
    "            agent_location[j][i] = range_distance_L*np.random.rand()+range_L[0]\n",
    "\n",
    "agent_location"
   ]
  },
  {
   "cell_type": "markdown",
   "metadata": {},
   "source": [
    "*pbest at first is also the first swam*"
   ]
  },
  {
   "cell_type": "code",
   "execution_count": 9,
   "metadata": {},
   "outputs": [],
   "source": [
    "agent_pbest = agent_location"
   ]
  },
  {
   "cell_type": "code",
   "execution_count": 10,
   "metadata": {},
   "outputs": [
    {
     "data": {
      "text/plain": [
       "array([[7.98605596e-11, 2.71528159e-11, 7.95194317e-11, 4.46408350e-08,\n",
       "        1.88255714e-08],\n",
       "       [8.35596759e-11, 6.96692804e-11, 6.18289739e-11, 2.75552464e-08,\n",
       "        2.68672527e-08],\n",
       "       [8.96512128e-11, 3.65481935e-11, 4.57432686e-11, 8.12140410e-08,\n",
       "        7.81978692e-08],\n",
       "       [1.04443418e-11, 3.14647904e-11, 1.78286792e-11, 1.93071014e-08,\n",
       "        9.78125237e-08],\n",
       "       [5.27669395e-11, 9.54809190e-11, 6.98528539e-11, 4.73811922e-08,\n",
       "        1.66302613e-08],\n",
       "       [7.28584619e-11, 9.04355303e-11, 8.81436165e-11, 3.89933681e-08,\n",
       "        6.91799606e-08],\n",
       "       [6.30793887e-12, 3.31337789e-11, 3.63290927e-11, 1.72812328e-08,\n",
       "        8.74973761e-08],\n",
       "       [8.55058155e-11, 1.57185993e-11, 7.30489536e-11, 3.68218923e-08,\n",
       "        6.75764702e-08],\n",
       "       [6.40143485e-11, 2.13464238e-11, 7.83375135e-11, 8.94616209e-08,\n",
       "        6.71162135e-09],\n",
       "       [7.44821837e-11, 8.66855812e-12, 9.68700037e-11, 9.53621385e-08,\n",
       "        2.47028271e-08]])"
      ]
     },
     "execution_count": 10,
     "metadata": {},
     "output_type": "execute_result"
    }
   ],
   "source": [
    "agent_velocity = np.zeros([agent_quantity, space_dimention])\n",
    "for i in range(space_dimention):\n",
    "    if component_type[i] == 'C':\n",
    "        for j in range(agent_quantity):\n",
    "            agent_velocity[j][i] = range_distance_C*np.random.rand()+range_C[0]\n",
    "    elif component_type[i] == 'L':\n",
    "        for j in range(agent_quantity):\n",
    "            agent_velocity[j][i] = range_distance_L*np.random.rand()+range_L[0]\n",
    "\n",
    "agent_velocity"
   ]
  },
  {
   "cell_type": "markdown",
   "metadata": {},
   "source": [
    "### Fourth step\n",
    "Systematically Fly the Particles Through the Solution Space\n",
    "\n",
    "a) Evaluate the Particles's Fitness, Compare to gbest, pbest"
   ]
  },
  {
   "cell_type": "code",
   "execution_count": 11,
   "metadata": {},
   "outputs": [
    {
     "data": {
      "text/plain": [
       "array([[4.06747052e-02],\n",
       "       [3.91057890e-05],\n",
       "       [1.41206697e-03],\n",
       "       [1.61438590e-03],\n",
       "       [9.12894527e-05],\n",
       "       [6.09116824e-04],\n",
       "       [2.05059716e-02],\n",
       "       [3.48569062e-04],\n",
       "       [1.54520601e-03],\n",
       "       [1.68096471e-04]])"
      ]
     },
     "execution_count": 11,
     "metadata": {},
     "output_type": "execute_result"
    }
   ],
   "source": [
    "agent_fitness = np.zeros([agent_quantity,1])\n",
    "pbest = np.zeros([agent_quantity,1])\n",
    "\n",
    "for i in range(0,agent_quantity):\n",
    "    agent_fitness[i] = fitness(agent_location[i])\n",
    "    if agent_fitness[i] > pbest[i]:\n",
    "            pbest[i] = agent_fitness[i]\n",
    "            agent_pbest[i] = agent_location[i]\n",
    "    \n",
    "pbest"
   ]
  },
  {
   "cell_type": "code",
   "execution_count": 12,
   "metadata": {},
   "outputs": [
    {
     "name": "stdout",
     "output_type": "stream",
     "text": [
      "\n",
      " Global best 0.04067470524012384\n",
      "\n",
      " Global best position 0\n",
      "\n",
      " Agent at best position [2.03383543e-11 3.92092068e-11 1.34171893e-12 7.91518731e-08\n",
      " 2.44024426e-08]\n"
     ]
    }
   ],
   "source": [
    "gbest = np.zeros(1)\n",
    "gbest[0] = pbest.max()\n",
    "gbest_position = pbest.argmax()\n",
    "print('\\n Global best', gbest[0])\n",
    "print('\\n Global best position', gbest_position)\n",
    "print('\\n Agent at best position', agent_pbest[gbest_position])"
   ]
  },
  {
   "cell_type": "markdown",
   "metadata": {},
   "source": [
    "b) Update the Particle's velocity "
   ]
  },
  {
   "cell_type": "code",
   "execution_count": 13,
   "metadata": {},
   "outputs": [
    {
     "data": {
      "text/plain": [
       "array([[ 2.39581679e-11,  8.14584478e-12,  2.38558295e-11,\n",
       "         1.33922505e-08,  5.64767143e-09],\n",
       "       [ 1.13358928e-11, -5.63403954e-13,  5.49020427e-12,\n",
       "         1.90545459e-08, -2.10065746e-08],\n",
       "       [ 2.67653485e-11,  9.63021760e-12,  1.05537032e-11,\n",
       "         2.42316210e-08,  2.37261031e-08],\n",
       "       [ 1.24399259e-13,  9.93922719e-12,  3.18061746e-12,\n",
       "         6.50369147e-09,  2.82834765e-08],\n",
       "       [-3.82064921e-11, -1.55293456e-11, -2.57205012e-11,\n",
       "         4.76172933e-08, -6.87393241e-08],\n",
       "       [ 2.06128883e-11,  2.66098358e-11,  2.60589228e-11,\n",
       "         1.13553836e-08,  1.99015993e-08],\n",
       "       [-6.16040107e-11, -1.17251731e-12,  1.39365067e-12,\n",
       "         1.01363794e-07, -4.49953945e-08],\n",
       "       [ 2.01644184e-11, -4.91331778e-12,  6.70299778e-12,\n",
       "         1.16330650e-08,  1.90597822e-08],\n",
       "       [-6.72710567e-11, -2.20561869e-11, -4.35006178e-11,\n",
       "         9.36376927e-08,  3.91703126e-09],\n",
       "       [-6.77662417e-11, -4.23714384e-11, -1.04049622e-10,\n",
       "         9.47987283e-08, -4.18800146e-08]])"
      ]
     },
     "execution_count": 13,
     "metadata": {},
     "output_type": "execute_result"
    }
   ],
   "source": [
    "for i in range(agent_quantity):\n",
    "    agent_velocity[i] = w*agent_velocity[i] + c1*np.random.rand()*(agent_pbest[i] - agent_location[i]) + c2*np.random.rand()*(agent_pbest[gbest_position]- agent_location[i])\n",
    "    \n",
    "agent_velocity"
   ]
  },
  {
   "cell_type": "markdown",
   "metadata": {},
   "source": [
    "c) Move the particle"
   ]
  },
  {
   "cell_type": "code",
   "execution_count": 14,
   "metadata": {},
   "outputs": [
    {
     "data": {
      "text/plain": [
       "array([[4.42965221e-11, 4.73550516e-11, 2.51975484e-11, 9.25441236e-08,\n",
       "        3.00501140e-08],\n",
       "       [6.61491461e-11, 9.25327224e-11, 3.96159113e-11, 7.11226749e-08,\n",
       "        7.63694011e-08],\n",
       "       [5.07550687e-11, 8.63103970e-11, 9.90982031e-11, 9.28927958e-08,\n",
       "        4.06373208e-08],\n",
       "       [9.92891638e-11, 3.60550731e-11, 6.13186374e-11, 6.70142862e-08,\n",
       "        8.04628556e-08],\n",
       "       [2.36369800e-11, 5.76093136e-11, 1.14730043e-11, 9.88873969e-08,\n",
       "        1.22933934e-08],\n",
       "       [7.18791137e-11, 7.87607959e-11, 3.69465510e-11, 9.90210684e-08,\n",
       "        6.54847491e-08],\n",
       "       [8.87644120e-12, 4.68121744e-11, 1.02413788e-11, 9.54357042e-08,\n",
       "        3.56677887e-08],\n",
       "       [7.15447778e-11, 8.87669147e-11, 9.40977936e-11, 8.74671012e-08,\n",
       "        5.03251090e-08],\n",
       "       [2.35044913e-11, 4.03347741e-11, 1.24164595e-11, 8.16207145e-08,\n",
       "        2.67689703e-08],\n",
       "       [1.86892866e-11, 2.98351311e-11, 7.04048945e-12, 7.46151286e-08,\n",
       "        1.86886706e-08]])"
      ]
     },
     "execution_count": 14,
     "metadata": {},
     "output_type": "execute_result"
    }
   ],
   "source": [
    "agent_location = agent_location + agent_velocity\n",
    "for i in range(agent_quantity):\n",
    "    for j in range(space_dimention):\n",
    "        if agent_location[i][j] > agent_bound[j][1]:\n",
    "            agent_location[i][j] = 2*agent_bound[j][1] - agent_location[i][j]\n",
    "        if agent_location[i][j] < agent_bound[j][0]:\n",
    "            agent_location[i][j] = 2*agent_bound[j][0] - agent_location[i][j]\n",
    "        \n",
    "agent_location"
   ]
  },
  {
   "cell_type": "markdown",
   "metadata": {},
   "source": [
    "### Fifth step\n",
    "Repeat everything in Step 4 untill iteration being out of range "
   ]
  },
  {
   "cell_type": "code",
   "execution_count": 15,
   "metadata": {},
   "outputs": [
    {
     "name": "stdout",
     "output_type": "stream",
     "text": [
      "Converged!!! Hura!!\n",
      "\n",
      " Agent at best position [5.23677076e-11 1.44965506e-12 2.80902587e-12 2.47973314e-08\n",
      " 1.51387982e-08]\n",
      "Gbest value is  0.9942099960987428\n"
     ]
    }
   ],
   "source": [
    "converge_flag = 0\n",
    "for k in range(max_iter):\n",
    "    if gbest[k] > 0.99:\n",
    "        converge_flag = 1\n",
    "        print('Converged!!! Hura!!')\n",
    "        break\n",
    "    # Step 4a\n",
    "    for i in range(agent_quantity):\n",
    "        agent_fitness[i] = fitness(agent_location[i])\n",
    "        if agent_fitness[i] > pbest[i]:\n",
    "            pbest[i] = agent_fitness[i]\n",
    "            agent_pbest[i] = agent_location[i]\n",
    "    \n",
    "    gbest = np.append(gbest, pbest.max())\n",
    "    gbest_position = pbest.argmax()\n",
    "    # Step 4b\n",
    "    for i in range(agent_quantity):\n",
    "        agent_velocity[i] = w*agent_velocity[i] + c1*np.random.rand()*(agent_pbest[i] - agent_location[i]) + c2*np.random.rand()*(agent_pbest[gbest_position]- agent_location[i])\n",
    "    \n",
    "    # Step 4c\n",
    "    agent_location = agent_location + agent_velocity\n",
    "    for i in range(agent_quantity):\n",
    "        for j in range(space_dimention):\n",
    "            if agent_location[i][j] > agent_bound[j][1]:\n",
    "                agent_location[i][j] = 2*agent_bound[j][1] - agent_location[i][j]\n",
    "            if agent_location[i][j] < agent_bound[j][0]:\n",
    "                agent_location[i][j] = 2*agent_bound[j][0] - agent_location[i][j]\n",
    "    #print('Iteration: ', k)\n",
    "    #print('Gbest in this iteration: ', gbest)\n",
    "\n",
    "if converge_flag == 0:\n",
    "    k +=1 \n",
    "print('\\n Agent at best position', agent_pbest[gbest_position])            \n",
    "print('Gbest value is ', gbest[k])"
   ]
  },
  {
   "cell_type": "markdown",
   "metadata": {},
   "source": [
    "-----------------------------------------------------------\n",
    "# III. Result\n",
    "Final result is shown here, good or not, it've already taken a lot of time. Let's try to draw a graph to see the convergence progress"
   ]
  },
  {
   "cell_type": "code",
   "execution_count": 16,
   "metadata": {},
   "outputs": [
    {
     "data": {
      "image/png": "[encoded data removed]",
      "text/plain": [
       "<Figure size 432x288 with 1 Axes>"
      ]
     },
     "metadata": {},
     "output_type": "display_data"
    }
   ],
   "source": [
    "iterate = np.arange(k+1)\n",
    "plt.plot(iterate,gbest)\n",
    "plt.xlabel('iterations(n)')\n",
    "plt.ylabel('gbest')\n",
    "plt.show()"
   ]
  },
  {
   "cell_type": "code",
   "execution_count": 17,
   "metadata": {},
   "outputs": [
    {
     "name": "stdout",
     "output_type": "stream",
     "text": [
      "Z output is  (49.665019138385354-0.46988769772455896j)\n"
     ]
    }
   ],
   "source": [
    "agent_gbest = agent_pbest[gbest_position]\n",
    "components = np.zeros([num_component,3])\n",
    "for i in range(num_component):\n",
    "    # Component type\n",
    "    if component_type[i] == 'C':\n",
    "        components[i][0] = 0 # C\n",
    "    elif component_type[i] == 'L':\n",
    "        components[i][0] = 1 # L\n",
    "    else:\n",
    "        components[i][0] = 1 # R\n",
    "    # Component placement\n",
    "    if component_topology[i] == 'ser':\n",
    "        components[i][1] = 0\n",
    "    else:\n",
    "        components[i][1] = 1\n",
    "    # Component value\n",
    "    components[i][2] = agent_gbest[i]\n",
    "        \n",
    "#print(components)\n",
    "Z_out = out_impedance(num_component, components, freq, Z_load)\n",
    "print('Z output is ', Z_out)"
   ]
  },
  {
   "cell_type": "code",
   "execution_count": null,
   "metadata": {},
   "outputs": [],
   "source": []
  }
 ],
 "metadata": {
  "kernelspec": {
   "display_name": "Python 3",
   "language": "python",
   "name": "python3"
  },
  "language_info": {
   "codemirror_mode": {
    "name": "ipython",
    "version": 3
   },
   "file_extension": ".py",
   "mimetype": "text/x-python",
   "name": "python",
   "nbconvert_exporter": "python",
   "pygments_lexer": "ipython3",
   "version": "3.6.5"
  }
 },
 "nbformat": 4,
 "nbformat_minor": 2
}
