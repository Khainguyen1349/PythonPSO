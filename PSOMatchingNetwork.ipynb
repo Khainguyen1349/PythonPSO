{
 "cells": [
  {
   "cell_type": "markdown",
   "metadata": {},
   "source": [
    "# Apply PSO on Matching Network Optimization\n",
    "From separate code on PSO and Matching Network, it's time to merge these 2 to make an optimization for MN"
   ]
  },
  {
   "cell_type": "code",
   "execution_count": 1,
   "metadata": {},
   "outputs": [],
   "source": [
    "import numpy as np\n",
    "import matplotlib.pyplot as plt"
   ]
  },
  {
   "cell_type": "markdown",
   "metadata": {},
   "source": [
    "----------------------------------------------------------\n",
    "## I. Define Matching Network\n",
    "\n",
    "Still, suppose I have a MN of 5 component like this:\n",
    "\n",
    "*-------------L2-------------------C3---------------C1---------------*\n",
    "\n",
    "     |          |             |             |\n",
    "           \n",
    "    Z_out      L1             C2             Z_load\n",
    "           \n",
    "     |          |             |             |\n",
    "      \n",
    "*---------------------------------------------------------------------*\n",
    "\n",
    "and Z_load is not matched at 50Ohm, so with help from MN, I expect to get Z_out matched\n",
    "\n",
    "Let's try to simplify the parallel or series type of a circuit"
   ]
  },
  {
   "cell_type": "code",
   "execution_count": 2,
   "metadata": {},
   "outputs": [],
   "source": [
    "def parallel(Z1, Z2):\n",
    "    return 1/(1/Z1 + 1/Z2)\n",
    "\n",
    "def series(Z1, Z2): \n",
    "    return Z1 + Z2"
   ]
  },
  {
   "cell_type": "markdown",
   "metadata": {},
   "source": [
    "Then, I assign type (R/L/C), connection orientation (ser/par), lowest and highest values of 5 components, respectively:"
   ]
  },
  {
   "cell_type": "code",
   "execution_count": 3,
   "metadata": {},
   "outputs": [],
   "source": [
    "num_component = 5\n",
    "\n",
    "component_type = ('C', 'C', 'C', 'L', 'L')\n",
    "component_topology = ('ser', 'par','ser', 'par','ser')\n",
    "range_C = (1e-12, 100e-12)\n",
    "range_distance_C = range_C[1] - range_C[0]\n",
    "range_L = (1e-9, 100e-9)\n",
    "range_distance_L = range_L[1] - range_L[0]"
   ]
  },
  {
   "cell_type": "markdown",
   "metadata": {},
   "source": [
    "And the function to calculate output impedance from Z load and MN\n",
    "\n",
    "*note: for component type: 0 - C, 1 - L, 2 - R; for component placement: 0 - series, 1 - parallel*"
   ]
  },
  {
   "cell_type": "code",
   "execution_count": 4,
   "metadata": {},
   "outputs": [],
   "source": [
    "def out_impedance(num_component, components, freq, Z_load):\n",
    "    Z = np.zeros((num_component+1,),dtype = complex)\n",
    "    Z_out = np.zeros((num_component+1,),dtype = complex)\n",
    "    # calculate impedance of each component\n",
    "    Z[0] = Z_load\n",
    "    #print (Z[0],end = '   ')\n",
    "    for i in range(num_component):\n",
    "        if components[i][0] == 0: # C\n",
    "            Z[i+1] = 1/(1j*2*np.pi*freq*components[i][2])\n",
    "        elif components[i][0] == 1: # L\n",
    "            Z[i+1] = 1j*2*np.pi*freq*components[i][2]\n",
    "        else: # R\n",
    "            Z[i+1] = components[i][2]\n",
    "    # calculate result\n",
    "    Z_out[0] = Z_load\n",
    "    for i in range(num_component):\n",
    "        if components[i][1] == 0: # series\n",
    "            Z_out[i+1] = series(Z_out[i], Z[i+1])\n",
    "        else:                     # parallel\n",
    "            Z_out[i+1] = parallel(Z_out[i], Z[i+1])\n",
    "        #print ('\\n Zout', i+1,' :', Z_out[i+1])\n",
    "    return Z_out[num_component]"
   ]
  },
  {
   "cell_type": "markdown",
   "metadata": {},
   "source": [
    "---------------------------------------------\n",
    "## II. Apply PSO\n",
    "General parameters of PSO are defined here, meaning of them is *PSOsinc* notebook\n"
   ]
  },
  {
   "cell_type": "code",
   "execution_count": 5,
   "metadata": {},
   "outputs": [],
   "source": [
    "w = 0.5\n",
    "c1 = 2\n",
    "c2 = 2\n",
    "max_iter = 5000\n",
    "freq = 1e+9\n",
    "Z_load = 20\n",
    "Z0 = 50"
   ]
  },
  {
   "cell_type": "markdown",
   "metadata": {},
   "source": [
    "### First step\n",
    "Define the Solution Space\n",
    "\n",
    "Five bees, or better-5 particles, will be assigned to the task to look for the best position in their so-called Solution Space. This space is 5D, as each agent needs 5 variables to define its location, seem unrealistic hah? :v"
   ]
  },
  {
   "cell_type": "code",
   "execution_count": 6,
   "metadata": {},
   "outputs": [
    {
     "data": {
      "text/plain": [
       "array([[1.e-12, 1.e-10],\n",
       "       [1.e-12, 1.e-10],\n",
       "       [1.e-12, 1.e-10],\n",
       "       [1.e-09, 1.e-07],\n",
       "       [1.e-09, 1.e-07]])"
      ]
     },
     "execution_count": 6,
     "metadata": {},
     "output_type": "execute_result"
    }
   ],
   "source": [
    "agent_quantity = 5\n",
    "space_dimention = 5\n",
    "agent_bound = np.zeros([5,2])\n",
    "for i in range(space_dimention):\n",
    "    if component_type[i] == 'C':\n",
    "        agent_bound[i] = range_C\n",
    "    else:\n",
    "        agent_bound[i] = range_L\n",
    "agent_bound"
   ]
  },
  {
   "cell_type": "markdown",
   "metadata": {},
   "source": [
    "### Second step\n",
    "Define a fitness function. In this case, it's the S11 at given frequency"
   ]
  },
  {
   "cell_type": "code",
   "execution_count": 7,
   "metadata": {},
   "outputs": [
    {
     "data": {
      "text/plain": [
       "0.0015327902737268806"
      ]
     },
     "execution_count": 7,
     "metadata": {},
     "output_type": "execute_result"
    }
   ],
   "source": [
    "def fitness(agent):\n",
    "    components = np.zeros([5,3])\n",
    "    for i in range(agent_quantity):\n",
    "        # Component type\n",
    "        if component_type[i] == 'C':\n",
    "            components[i][0] = 0 # C\n",
    "        elif component_type[i] == 'L':\n",
    "            components[i][0] = 1 # L\n",
    "        else:\n",
    "            components[i][0] = 1 # R\n",
    "        # Component placement\n",
    "        if component_topology[i] == 'ser':\n",
    "            components[i][1] = 0\n",
    "        else:\n",
    "            components[i][1] = 1\n",
    "        # Component value\n",
    "        components[i][2] = agent[i]\n",
    "        \n",
    "    #print(components)\n",
    "    Z_out = out_impedance(agent_quantity, components, freq, Z_load)\n",
    "    fitness = np.abs((Z_out - Z0)/(Z_out + Z0))\n",
    "    return 1 - fitness\n",
    "# Check fitness function\n",
    "fitness([10e-12, 20e-12, 30e-12, 40e-9, 50e-9])"
   ]
  },
  {
   "cell_type": "markdown",
   "metadata": {},
   "source": [
    "### Third step \n",
    "Initialize Random Swam Location and Velocities"
   ]
  },
  {
   "cell_type": "code",
   "execution_count": 8,
   "metadata": {},
   "outputs": [
    {
     "data": {
      "text/plain": [
       "array([[4.96293389e-11, 1.76073564e-11, 3.40669584e-11, 1.02754948e-08,\n",
       "        7.84040588e-08],\n",
       "       [4.81659338e-11, 1.11799064e-11, 5.05700548e-11, 1.49776859e-08,\n",
       "        9.96291875e-08],\n",
       "       [7.42082887e-12, 3.81902249e-11, 9.97317790e-11, 1.34162002e-08,\n",
       "        5.79649041e-08],\n",
       "       [9.99859552e-11, 2.17872271e-11, 1.56681115e-11, 3.19506003e-08,\n",
       "        1.31235383e-08],\n",
       "       [6.62021634e-11, 5.40871488e-11, 5.09300491e-12, 8.22727121e-08,\n",
       "        3.72138792e-08]])"
      ]
     },
     "execution_count": 8,
     "metadata": {},
     "output_type": "execute_result"
    }
   ],
   "source": [
    "agent_location = np.zeros([agent_quantity, space_dimention])\n",
    "for i in range(space_dimention):\n",
    "    if component_type[i] == 'C':\n",
    "        for j in range(agent_quantity):\n",
    "            agent_location[j][i] = range_distance_C*np.random.rand()+range_C[0]\n",
    "    elif component_type[i] == 'L':\n",
    "        for j in range(agent_quantity):\n",
    "            agent_location[j][i] = range_distance_L*np.random.rand()+range_L[0]\n",
    "\n",
    "agent_location"
   ]
  },
  {
   "cell_type": "markdown",
   "metadata": {},
   "source": [
    "*pbest at first is also the first swam*"
   ]
  },
  {
   "cell_type": "code",
   "execution_count": 9,
   "metadata": {},
   "outputs": [],
   "source": [
    "agent_pbest = agent_location"
   ]
  },
  {
   "cell_type": "code",
   "execution_count": 10,
   "metadata": {},
   "outputs": [
    {
     "data": {
      "text/plain": [
       "array([[5.08768471e-11, 1.78275212e-12, 1.90808016e-11, 5.11290933e-08,\n",
       "        8.75863169e-08],\n",
       "       [1.10570196e-11, 3.99483247e-11, 2.63679265e-11, 7.52150166e-08,\n",
       "        8.07848189e-08],\n",
       "       [8.78176366e-11, 1.85496164e-11, 3.48674798e-11, 2.93512386e-08,\n",
       "        6.86652086e-08],\n",
       "       [2.54166250e-11, 4.33072052e-11, 9.05625999e-11, 6.06689753e-08,\n",
       "        5.89340974e-08],\n",
       "       [7.29165294e-11, 7.83502202e-11, 1.81187047e-11, 9.80042086e-09,\n",
       "        2.83326531e-08]])"
      ]
     },
     "execution_count": 10,
     "metadata": {},
     "output_type": "execute_result"
    }
   ],
   "source": [
    "agent_velocity = np.zeros([agent_quantity, space_dimention])\n",
    "for i in range(space_dimention):\n",
    "    if component_type[i] == 'C':\n",
    "        for j in range(agent_quantity):\n",
    "            agent_velocity[j][i] = range_distance_C*np.random.rand()+range_C[0]\n",
    "    elif component_type[i] == 'L':\n",
    "        for j in range(agent_quantity):\n",
    "            agent_velocity[j][i] = range_distance_L*np.random.rand()+range_L[0]\n",
    "\n",
    "agent_velocity"
   ]
  },
  {
   "cell_type": "markdown",
   "metadata": {},
   "source": [
    "### Fourth step\n",
    "Systematically Fly the Particles Through the Solution Space\n",
    "\n",
    "a) Evaluate the Particles's Fitness, Compare to gbest, pbest"
   ]
  },
  {
   "cell_type": "code",
   "execution_count": 11,
   "metadata": {},
   "outputs": [
    {
     "data": {
      "text/plain": [
       "array([[0.00192224],\n",
       "       [0.00199915],\n",
       "       [0.00028609],\n",
       "       [0.03885248],\n",
       "       [0.00111693]])"
      ]
     },
     "execution_count": 11,
     "metadata": {},
     "output_type": "execute_result"
    }
   ],
   "source": [
    "agent_fitness = np.zeros([agent_quantity,1])\n",
    "pbest = np.zeros([agent_quantity,1])\n",
    "\n",
    "for i in range(0,agent_quantity):\n",
    "    agent_fitness[i] = fitness(agent_location[i])\n",
    "    if agent_fitness[i] > pbest[i]:\n",
    "            pbest[i] = agent_fitness[i]\n",
    "            agent_pbest[i] = agent_location[i]\n",
    "    \n",
    "pbest"
   ]
  },
  {
   "cell_type": "code",
   "execution_count": 12,
   "metadata": {},
   "outputs": [
    {
     "name": "stdout",
     "output_type": "stream",
     "text": [
      "\n",
      " Global best 0.038852484624601336\n",
      "\n",
      " Global best position 3\n",
      "\n",
      " Agent at best position [9.99859552e-11 2.17872271e-11 1.56681115e-11 3.19506003e-08\n",
      " 1.31235383e-08]\n"
     ]
    }
   ],
   "source": [
    "gbest = np.zeros(1)\n",
    "gbest[0] = pbest.max()\n",
    "gbest_position = pbest.argmax()\n",
    "print('\\n Global best', gbest[0])\n",
    "print('\\n Global best position', gbest_position)\n",
    "print('\\n Agent at best position', agent_pbest[gbest_position])"
   ]
  },
  {
   "cell_type": "markdown",
   "metadata": {},
   "source": [
    "b) Update the Particle's velocity "
   ]
  },
  {
   "cell_type": "code",
   "execution_count": 13,
   "metadata": {},
   "outputs": [
    {
     "data": {
      "text/plain": [
       "array([[ 4.81168408e-11,  2.77380698e-12,  1.25436497e-12,\n",
       "         3.53260661e-08,  1.43936675e-08],\n",
       "       [ 9.86982598e-11,  3.90455828e-11, -4.95679469e-11,\n",
       "         6.81239409e-08, -1.15140326e-07],\n",
       "       [ 7.92068149e-11,  3.01982875e-12, -1.46223828e-11,\n",
       "         2.17433695e-08,  1.72331800e-08],\n",
       "       [ 1.27083125e-11,  2.16536026e-11,  4.52812999e-11,\n",
       "         3.03344876e-08,  2.94670487e-08],\n",
       "       [ 9.33397272e-11, -1.52079739e-11,  2.68645630e-11,\n",
       "        -7.98266706e-08, -2.63943609e-08]])"
      ]
     },
     "execution_count": 13,
     "metadata": {},
     "output_type": "execute_result"
    }
   ],
   "source": [
    "for i in range(agent_quantity):\n",
    "    agent_velocity[i] = w*agent_velocity[i] + c1*np.random.rand()*(agent_pbest[i] - agent_location[i]) + c2*np.random.rand()*(agent_pbest[gbest_position]- agent_location[i])\n",
    "    \n",
    "agent_velocity"
   ]
  },
  {
   "cell_type": "markdown",
   "metadata": {},
   "source": [
    "c) Move the particle"
   ]
  },
  {
   "cell_type": "code",
   "execution_count": 14,
   "metadata": {},
   "outputs": [
    {
     "data": {
      "text/plain": [
       "array([[9.77461798e-11, 2.03811634e-11, 3.53213234e-11, 4.56015609e-08,\n",
       "        9.27977263e-08],\n",
       "       [5.31358064e-11, 5.02254891e-11, 1.00210789e-12, 8.31016268e-08,\n",
       "        1.75111389e-08],\n",
       "       [8.66276438e-11, 4.12100536e-11, 8.51093962e-11, 3.51595697e-08,\n",
       "        7.51980840e-08],\n",
       "       [8.73057323e-11, 4.34408296e-11, 6.09494115e-11, 6.22850879e-08,\n",
       "        4.25905871e-08],\n",
       "       [4.04581094e-11, 3.88791749e-11, 3.19575679e-11, 2.44604145e-09,\n",
       "        1.08195183e-08]])"
      ]
     },
     "execution_count": 14,
     "metadata": {},
     "output_type": "execute_result"
    }
   ],
   "source": [
    "agent_location = agent_location + agent_velocity\n",
    "for i in range(agent_quantity):\n",
    "    for j in range(space_dimention):\n",
    "        if agent_location[i][j] > agent_bound[j][1]:\n",
    "            agent_location[i][j] = 2*agent_bound[j][1] - agent_location[i][j]\n",
    "        if agent_location[i][j] < agent_bound[j][0]:\n",
    "            agent_location[i][j] = 2*agent_bound[j][0] - agent_location[i][j]\n",
    "        \n",
    "agent_location"
   ]
  },
  {
   "cell_type": "markdown",
   "metadata": {},
   "source": [
    "### Fifth step\n",
    "Repeat everything in Step 4 untill iteration being out of range "
   ]
  },
  {
   "cell_type": "code",
   "execution_count": 15,
   "metadata": {},
   "outputs": [
    {
     "name": "stdout",
     "output_type": "stream",
     "text": [
      "Converged!!! Hura!!\n",
      "\n",
      " Agent at best position [7.08277074e-11 1.15238650e-11 1.67701056e-11 3.94439777e-09\n",
      " 4.43151191e-09]\n",
      "Gbest value is  0.9974814684270243\n"
     ]
    }
   ],
   "source": [
    "for k in range(max_iter):\n",
    "    if gbest[k] > 0.99:\n",
    "        print('Converged!!! Hura!!')\n",
    "        break\n",
    "    # Step 4a\n",
    "    for i in range(agent_quantity):\n",
    "        agent_fitness[i] = fitness(agent_location[i])\n",
    "        if agent_fitness[i] > pbest[i]:\n",
    "            pbest[i] = agent_fitness[i]\n",
    "            agent_pbest[i] = agent_location[i]\n",
    "    \n",
    "    gbest = np.append(gbest, pbest.max())\n",
    "    gbest_position = pbest.argmax()\n",
    "    # Step 4b\n",
    "    for i in range(agent_quantity):\n",
    "        agent_velocity[i] = w*agent_velocity[i] + c1*np.random.rand()*(agent_pbest[i] - agent_location[i]) + c2*np.random.rand()*(agent_pbest[gbest_position]- agent_location[i])\n",
    "    \n",
    "    # Step 4c\n",
    "    agent_location = agent_location + agent_velocity\n",
    "    for i in range(agent_quantity):\n",
    "        for j in range(space_dimention):\n",
    "            if agent_location[i][j] > agent_bound[j][1]:\n",
    "                agent_location[i][j] = 2*agent_bound[j][1] - agent_location[i][j]\n",
    "            if agent_location[i][j] < agent_bound[j][0]:\n",
    "                agent_location[i][j] = 2*agent_bound[j][0] - agent_location[i][j]\n",
    "    #print('Iteration: ', k)\n",
    "    #print('Gbest in this iteration: ', gbest)\n",
    "                \n",
    "print('\\n Agent at best position', agent_pbest[gbest_position])            \n",
    "print('Gbest value is ', gbest[k])"
   ]
  },
  {
   "cell_type": "markdown",
   "metadata": {},
   "source": [
    "-----------------------------------------------------------\n",
    "# III. Result\n",
    "Final result is shown here, good or not, it's already taken a lot of time. Let's try to draw a graph to see the convergence progress"
   ]
  },
  {
   "cell_type": "code",
   "execution_count": 16,
   "metadata": {},
   "outputs": [
    {
     "data": {
      "image/png": "[encoded data removed]",
      "text/plain": [
       "<Figure size 432x288 with 1 Axes>"
      ]
     },
     "metadata": {},
     "output_type": "display_data"
    }
   ],
   "source": [
    "iterate = np.arange(k+1)\n",
    "plt.plot(iterate,gbest)\n",
    "plt.xlabel('iterations(n)')\n",
    "plt.ylabel('gbest')\n",
    "plt.show()"
   ]
  },
  {
   "cell_type": "code",
   "execution_count": 17,
   "metadata": {},
   "outputs": [
    {
     "name": "stdout",
     "output_type": "stream",
     "text": [
      "Z output is  (49.95342597976987-0.247390767068552j)\n"
     ]
    }
   ],
   "source": [
    "agent_gbest = agent_pbest[gbest_position]\n",
    "components = np.zeros([5,3])\n",
    "for i in range(agent_quantity):\n",
    "    # Component type\n",
    "    if component_type[i] == 'C':\n",
    "        components[i][0] = 0 # C\n",
    "    elif component_type[i] == 'L':\n",
    "        components[i][0] = 1 # L\n",
    "    else:\n",
    "        components[i][0] = 1 # R\n",
    "    # Component placement\n",
    "    if component_topology[i] == 'ser':\n",
    "        components[i][1] = 0\n",
    "    else:\n",
    "        components[i][1] = 1\n",
    "    # Component value\n",
    "    components[i][2] = agent_gbest[i]\n",
    "        \n",
    "#print(components)\n",
    "Z_out = out_impedance(agent_quantity, components, freq, Z_load)\n",
    "print('Z output is ', Z_out)"
   ]
  },
  {
   "cell_type": "code",
   "execution_count": null,
   "metadata": {},
   "outputs": [],
   "source": []
  }
 ],
 "metadata": {
  "kernelspec": {
   "display_name": "Python 3",
   "language": "python",
   "name": "python3"
  },
  "language_info": {
   "codemirror_mode": {
    "name": "ipython",
    "version": 3
   },
   "file_extension": ".py",
   "mimetype": "text/x-python",
   "name": "python",
   "nbconvert_exporter": "python",
   "pygments_lexer": "ipython3",
   "version": "3.6.5"
  }
 },
 "nbformat": 4,
 "nbformat_minor": 2
}
