{
 "cells": [
  {
   "cell_type": "markdown",
   "metadata": {},
   "source": [
    "# Apply PSO on Matching Network Optimization\n",
    "From separate code on PSO and Matching Network, it's time to merge these 2 to make an optimization for MN"
   ]
  },
  {
   "cell_type": "code",
   "execution_count": null,
   "metadata": {},
   "outputs": [],
   "source": [
    "import numpy as np\n",
    "import matplotlib.pyplot as plt\n",
    "import skrf as rf\n",
    "from bitarray import bitarray"
   ]
  },
  {
   "cell_type": "markdown",
   "metadata": {},
   "source": [
    "----------------------------------------------------------\n",
    "## I. Define Matching Network\n",
    "\n",
    "Still, suppose I have a MN of 5 component like this:\n",
    "\n",
    "*-------------------------Z3---------------Z1---------------*\n",
    "\n",
    "     |                  |             |\n",
    "           \n",
    "    Z_out               Z2             Z_load\n",
    "           \n",
    "     |                  |             |\n",
    "      \n",
    "*---------------------------------------------------------------*\n",
    "\n",
    "and Z_load is not matched at 50Ohm, so with help from MN, I expect to get Z_out matched\n",
    "\n",
    "Let's try to simplify the parallel or series type of a circuit"
   ]
  },
  {
   "cell_type": "code",
   "execution_count": null,
   "metadata": {},
   "outputs": [],
   "source": [
    "def parallel(Z1, Z2):\n",
    "    return 1/(1/Z1 + 1/Z2)\n",
    "\n",
    "def series(Z1, Z2): \n",
    "    return Z1 + Z2"
   ]
  },
  {
   "cell_type": "markdown",
   "metadata": {},
   "source": [
    "Then, I assign type (R/L/C), connection orientation (ser/par), lowest and highest values of 5 components, respectively:"
   ]
  },
  {
   "cell_type": "code",
   "execution_count": null,
   "metadata": {},
   "outputs": [],
   "source": [
    "num_component = 3\n",
    "component_type = np.zeros(num_component)\n",
    "component_topology = np.zeros(num_component)\n",
    "range_C = (1e-12, 100e-12)\n",
    "range_distance_C = range_C[1] - range_C[0]\n",
    "range_L = (1e-9, 100e-9)\n",
    "range_distance_L = range_L[1] - range_L[0]\n",
    "component_topology"
   ]
  },
  {
   "cell_type": "markdown",
   "metadata": {},
   "source": [
    "And the function to calculate output impedance from Z load and MN\n",
    "\n",
    "*note: for component type: 0 - C, 1 - L, 2 - R; for component placement: 0 - series, 1 - parallel*"
   ]
  },
  {
   "cell_type": "code",
   "execution_count": null,
   "metadata": {},
   "outputs": [],
   "source": [
    "def out_impedance(num_component, components, freq, Z_load):\n",
    "    Z = np.zeros((num_component+1,),dtype = complex)\n",
    "    Z_out = np.zeros((num_component+1,),dtype = complex)\n",
    "    # calculate impedance of each component\n",
    "    Z[0] = Z_load\n",
    "    #print (Z[0],end = '   ')\n",
    "    for i in range(num_component):\n",
    "        if components[i][0] == 0: # C\n",
    "            Z[i+1] = 1/(1j*2*np.pi*freq*components[i][2])\n",
    "        elif components[i][0] == 1: # L\n",
    "            Z[i+1] = 1j*2*np.pi*freq*components[i][2]\n",
    "        else: # R\n",
    "            Z[i+1] = components[i][2]\n",
    "    # calculate result\n",
    "    Z_out[0] = Z_load\n",
    "    for i in range(num_component):\n",
    "        if components[i][1] == 0: # series\n",
    "            Z_out[i+1] = series(Z_out[i], Z[i+1])\n",
    "        else:                     # parallel\n",
    "            Z_out[i+1] = parallel(Z_out[i], Z[i+1])\n",
    "        #print ('\\n Zout', i+1,' :', Z_out[i+1])\n",
    "    return Z_out[num_component]"
   ]
  },
  {
   "cell_type": "markdown",
   "metadata": {},
   "source": [
    "---------------------------------------------\n",
    "## II. Apply PSO\n",
    "General parameters of PSO are defined here, meaning of them is *PSOsinc* notebook\n"
   ]
  },
  {
   "cell_type": "code",
   "execution_count": null,
   "metadata": {},
   "outputs": [],
   "source": [
    "w = 0.3\n",
    "c1 = 2\n",
    "c2 = 2\n",
    "max_iter = 20\n",
    "#freq = 1e+9\n",
    "#Z_load = 20\n",
    "Z0 = 50\n",
    "ntwk = rf.Network('dualpolar_0409_HFSSDesign1.s1p')\n",
    "ntwk.plot_s_smith()"
   ]
  },
  {
   "cell_type": "markdown",
   "metadata": {},
   "source": [
    "### First step\n",
    "Define the Solution Space\n",
    "\n",
    "10 bees, or better-10 particles, will be assigned to the task to look for the best position in their so-called Solution Space. This space is 5D, as each agent needs 5 variables to define its location, seem unrealistic hah? :v"
   ]
  },
  {
   "cell_type": "code",
   "execution_count": null,
   "metadata": {},
   "outputs": [],
   "source": [
    "agent_quantity = 10\n",
    "space_dimention = num_component\n",
    "agent_bound = np.zeros([num_component,2])\n",
    "def agent_bound_maker(component_type):\n",
    "    for i in range(space_dimention):\n",
    "        if component_type[i] == 0: # Comp C\n",
    "            agent_bound[i] = range_C\n",
    "        else:                      # Comp L\n",
    "            agent_bound[i] = range_L\n",
    "    return agent_bound\n",
    "    \n",
    "agent_bound_maker([0,1,0])"
   ]
  },
  {
   "cell_type": "markdown",
   "metadata": {},
   "source": [
    "### Second step\n",
    "Define a fitness function. In this case, it's the S11 at given frequency"
   ]
  },
  {
   "cell_type": "code",
   "execution_count": null,
   "metadata": {},
   "outputs": [],
   "source": [
    "def fitness(agent, component_type, component_topology):\n",
    "    fitness = 0\n",
    "    components = np.zeros([num_component,3])\n",
    "    for i in range(num_component):\n",
    "        # Component type\n",
    "        components[i][0] = component_type[i]\n",
    "        # Component placement\n",
    "        components[i][1] = component_topology[i]\n",
    "        # Component value\n",
    "        components[i][2] = agent[i]\n",
    "        \n",
    "    for i in range(480,561,1):\n",
    "        Z_out = out_impedance(num_component, components, 1e9 + i*5e6, ntwk.z[i][0][0])\n",
    "        fitness += np.abs((Z_out - Z0)/(Z_out + Z0))\n",
    "    return 1 - fitness/81\n",
    "# Check fitness function\n",
    "fitness([10e-12, 20e-12, 30e-12],[0,1,0],[0,1,0])"
   ]
  },
  {
   "cell_type": "markdown",
   "metadata": {},
   "source": [
    "### Third step \n",
    "Initialize Random Swam Location and Velocities"
   ]
  },
  {
   "cell_type": "code",
   "execution_count": null,
   "metadata": {},
   "outputs": [],
   "source": [
    "agent_location = np.zeros([agent_quantity, space_dimention])\n",
    "\n",
    "agent_fitness = np.zeros([agent_quantity,1])\n",
    "pbest = np.zeros([agent_quantity,1])\n",
    "\n",
    "def agent_location_maker(component_type):\n",
    "    for i in range(space_dimention):\n",
    "        if component_type[i] == 0:\n",
    "            for j in range(agent_quantity):\n",
    "                agent_location[j][i] = range_distance_C*np.random.rand()+range_C[0]\n",
    "        elif component_type[i] == 1:\n",
    "            for j in range(agent_quantity):\n",
    "                agent_location[j][i] = range_distance_L*np.random.rand()+range_L[0]\n",
    "    return agent_location\n",
    "#agent_location_maker([0,1,0,1,0])"
   ]
  },
  {
   "cell_type": "code",
   "execution_count": null,
   "metadata": {},
   "outputs": [],
   "source": [
    "agent_velocity = np.zeros([agent_quantity, space_dimention])\n",
    "def agent_velocity_maker(component_type):\n",
    "    for i in range(space_dimention):\n",
    "        if component_type[i] == 0:\n",
    "            for j in range(agent_quantity):\n",
    "                agent_velocity[j][i] = range_distance_C*np.random.rand()+range_C[0]\n",
    "        elif component_type[i] == 1:\n",
    "            for j in range(agent_quantity):\n",
    "                agent_velocity[j][i] = range_distance_L*np.random.rand()+range_L[0]\n",
    "    return agent_velocity\n",
    "#agent_velocity_maker([0,1,0,1,0])"
   ]
  },
  {
   "cell_type": "markdown",
   "metadata": {},
   "source": [
    "### Fourth step and Fifth step will be looped over topologies and types"
   ]
  },
  {
   "cell_type": "code",
   "execution_count": null,
   "metadata": {},
   "outputs": [],
   "source": [
    "for khai in range(np.power(2,2*num_component)):\n",
    "    #Define component_type and component_topology\n",
    "    for i in range(num_component):\n",
    "        component_topology[i] = bitarray(np.binary_repr(khai,2*num_component))[i]\n",
    "        component_type[i] = bitarray(np.binary_repr(khai,2*num_component))[i+3]\n",
    "    print('\\n',khai,'. Loop')\n",
    "    \n",
    "    #Define boundary\n",
    "    agent_bound = agent_bound_maker(component_type)\n",
    "    \n",
    "    #Generate random Swam locations\n",
    "    agent_location = agent_location_maker(component_type)\n",
    "    #pbest at first is also the first swam\n",
    "    agent_pbest = agent_location\n",
    "    #Generate velocities\n",
    "    agent_velocity = agent_velocity_maker(component_type)\n",
    "    \n",
    "    # Evaluate the Particles's Fitness, Compare to gbest, pbest\n",
    "    for i in range(0,agent_quantity):\n",
    "        agent_fitness[i] = fitness(agent_location[i],component_type, component_topology)\n",
    "        if agent_fitness[i] > pbest[i]:\n",
    "            pbest[i] = agent_fitness[i]\n",
    "            agent_pbest[i] = agent_location[i]\n",
    "            \n",
    "    gbest = np.zeros(1)\n",
    "    gbest[0] = pbest.max()\n",
    "    gbest_position = pbest.argmax()\n",
    "    print('\\n Global best', gbest[0])\n",
    "    print('\\n Global best position', gbest_position)\n",
    "    print('\\n Agent at best position', agent_pbest[gbest_position])\n",
    "    \n",
    "    # Update the Particle's velocity\n",
    "    for i in range(agent_quantity):\n",
    "        agent_velocity[i] = w*agent_velocity[i] + c1*np.random.rand()*(agent_pbest[i] - agent_location[i]) + c2*np.random.rand()*(agent_pbest[gbest_position]- agent_location[i])\n",
    "    \n",
    "    #Move the particle\n",
    "    agent_location = agent_location + agent_velocity\n",
    "    for i in range(agent_quantity):\n",
    "        for j in range(space_dimention):\n",
    "            if agent_location[i][j] > agent_bound[j][1]:\n",
    "                agent_location[i][j] = 2*agent_bound[j][1] - agent_location[i][j]\n",
    "            elif agent_location[i][j] < agent_bound[j][0]:\n",
    "                agent_location[i][j] = 2*agent_bound[j][0] - agent_location[i][j]\n",
    "    \n",
    "    #Fifth step\n",
    "    converge_flag = 0\n",
    "    for k in range(max_iter):\n",
    "        if gbest[k] > 0.75:\n",
    "            converge_flag = 1\n",
    "            print('\\n Converged!!! Hura!!')\n",
    "            break\n",
    "        # Step 4a\n",
    "        for i in range(agent_quantity):\n",
    "            agent_fitness[i] = fitness(agent_location[i],component_type, component_topology)\n",
    "            if agent_fitness[i] > pbest[i]:\n",
    "                pbest[i] = agent_fitness[i]\n",
    "                agent_pbest[i] = agent_location[i]\n",
    "    \n",
    "        gbest = np.append(gbest, pbest.max())\n",
    "        gbest_position = pbest.argmax()\n",
    "        # Step 4b\n",
    "        for i in range(agent_quantity):\n",
    "            agent_velocity[i] = w*agent_velocity[i] + c1*np.random.rand()*(agent_pbest[i] - agent_location[i]) + c2*np.random.rand()*(agent_pbest[gbest_position]- agent_location[i])\n",
    "    \n",
    "        # Step 4c\n",
    "        agent_location = agent_location + agent_velocity\n",
    "        for i in range(agent_quantity):\n",
    "            for j in range(space_dimention):\n",
    "                if agent_location[i][j] > agent_bound[j][1]:\n",
    "                    agent_location[i][j] = 2*agent_bound[j][1] - agent_location[i][j]\n",
    "                elif agent_location[i][j] < agent_bound[j][0]:\n",
    "                    agent_location[i][j] = 2*agent_bound[j][0] - agent_location[i][j]\n",
    "        #print('Iteration: ', k)\n",
    "        #print('Gbest in this iteration: ', gbest)\n",
    "\n",
    "    if converge_flag == 0:\n",
    "        k +=1 \n",
    "    \n",
    "    iterate = np.arange(k+1)\n",
    "    plt.figure(khai)\n",
    "    plt.plot(iterate,gbest)\n",
    "    plt.xlabel('iterations(n)')\n",
    "    plt.ylabel('gbest')\n",
    "    plt.show()\n",
    "    print('\\n Agent at best position', agent_pbest[gbest_position])            \n",
    "    print('\\n Gbest value is ', gbest[k])"
   ]
  },
  {
   "cell_type": "markdown",
   "metadata": {},
   "source": [
    "-----------------------------------------------------------\n",
    "# III. Result\n",
    "Final result is shown here, good or not, it've already taken a lot of time. Let's try to draw a graph to see the convergence progress"
   ]
  },
  {
   "cell_type": "code",
   "execution_count": null,
   "metadata": {},
   "outputs": [],
   "source": []
  }
 ],
 "metadata": {
  "kernelspec": {
   "display_name": "Python 3",
   "language": "python",
   "name": "python3"
  },
  "language_info": {
   "codemirror_mode": {
    "name": "ipython",
    "version": 3
   },
   "file_extension": ".py",
   "mimetype": "text/x-python",
   "name": "python",
   "nbconvert_exporter": "python",
   "pygments_lexer": "ipython3",
   "version": "3.6.5"
  }
 },
 "nbformat": 4,
 "nbformat_minor": 2
}
