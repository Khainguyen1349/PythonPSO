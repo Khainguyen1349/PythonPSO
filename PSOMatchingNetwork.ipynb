{
 "cells": [
  {
   "cell_type": "markdown",
   "metadata": {},
   "source": [
    "# Apply PSO on Matching Network Optimization\n",
    "From separate code on PSO and Matching Network, it's time to merge these 2 to make an optimization for MN"
   ]
  },
  {
   "cell_type": "code",
   "execution_count": 1,
   "metadata": {},
   "outputs": [],
   "source": [
    "import numpy as np\n",
    "import matplotlib.pyplot as plt"
   ]
  },
  {
   "cell_type": "markdown",
   "metadata": {},
   "source": [
    "----------------------------------------------------------\n",
    "## I. Define Matching Network\n",
    "\n",
    "Still, suppose I have a MN of 5 component like this:\n",
    "\n",
    "*-------------L2-------------------C3---------------C1---------------*\n",
    "\n",
    "     |          |             |             |\n",
    "           \n",
    "    Z_out      L1             C2             Z_load\n",
    "           \n",
    "     |          |             |             |\n",
    "      \n",
    "*---------------------------------------------------------------------*\n",
    "\n",
    "and Z_load is not matched at 50Ohm, so with help from MN, I expect to get Z_out matched\n",
    "\n",
    "Let's try to simplify the parallel or series type of a circuit"
   ]
  },
  {
   "cell_type": "code",
   "execution_count": 2,
   "metadata": {},
   "outputs": [],
   "source": [
    "def parallel(Z1, Z2):\n",
    "    return 1/(1/Z1 + 1/Z2)\n",
    "\n",
    "def series(Z1, Z2): \n",
    "    return Z1 + Z2"
   ]
  },
  {
   "cell_type": "markdown",
   "metadata": {},
   "source": [
    "Then, I assign type (R/L/C), connection orientation (ser/par), lowest and highest values of 5 components, respectively:"
   ]
  },
  {
   "cell_type": "code",
   "execution_count": 3,
   "metadata": {},
   "outputs": [],
   "source": [
    "num_component = 5\n",
    "\n",
    "component_type = ('C', 'C', 'C', 'L', 'L')\n",
    "component_topology = ('ser', 'par','ser', 'par','ser')\n",
    "range_C = (1e-12, 100e-12)\n",
    "range_distance_C = range_C[1] - range_C[0]\n",
    "range_L = (1e-9, 100e-9)\n",
    "range_distance_L = range_L[1] - range_L[0]"
   ]
  },
  {
   "cell_type": "markdown",
   "metadata": {},
   "source": [
    "And the function to calculate output impedance from Z load and MN\n",
    "\n",
    "*note: for component type: 0 - C, 1 - L, 2 - R; for component placement: 0 - series, 1 - parallel*"
   ]
  },
  {
   "cell_type": "code",
   "execution_count": 4,
   "metadata": {},
   "outputs": [],
   "source": [
    "def out_impedance(num_component, components, freq, Z_load):\n",
    "    Z = np.zeros((num_component+1,),dtype = complex)\n",
    "    Z_out = np.zeros((num_component+1,),dtype = complex)\n",
    "    # calculate impedance of each component\n",
    "    Z[0] = Z_load\n",
    "    #print (Z[0],end = '   ')\n",
    "    for i in range(num_component):\n",
    "        if components[i][0] == 0: # C\n",
    "            Z[i+1] = 1/(1j*2*np.pi*freq*components[i][2])\n",
    "        elif components[i][0] == 1: # L\n",
    "            Z[i+1] = 1j*2*np.pi*freq*components[i][2]\n",
    "        else: # R\n",
    "            Z[i+1] = components[i][2]\n",
    "    # calculate result\n",
    "    Z_out[0] = Z_load\n",
    "    for i in range(num_component):\n",
    "        if components[i][1] == 0: # series\n",
    "            Z_out[i+1] = series(Z_out[i], Z[i+1])\n",
    "        else:                     # parallel\n",
    "            Z_out[i+1] = parallel(Z_out[i], Z[i+1])\n",
    "        #print ('\\n Zout', i+1,' :', Z_out[i+1])\n",
    "    return Z_out[num_component]"
   ]
  },
  {
   "cell_type": "markdown",
   "metadata": {},
   "source": [
    "---------------------------------------------\n",
    "## II. Apply PSO\n",
    "General parameters of PSO are defined here, meaning of them is *PSOsinc* notebook\n"
   ]
  },
  {
   "cell_type": "code",
   "execution_count": 5,
   "metadata": {},
   "outputs": [],
   "source": [
    "w = 0.3\n",
    "c1 = 2\n",
    "c2 = 2\n",
    "max_iter = 100\n",
    "freq = 1e+9\n",
    "Z_load = 20\n",
    "Z0 = 50"
   ]
  },
  {
   "cell_type": "markdown",
   "metadata": {},
   "source": [
    "### First step\n",
    "Define the Solution Space\n",
    "\n",
    "10 bees, or better-10 particles, will be assigned to the task to look for the best position in their so-called Solution Space. This space is 5D, as each agent needs 5 variables to define its location, seem unrealistic hah? :v"
   ]
  },
  {
   "cell_type": "code",
   "execution_count": 6,
   "metadata": {},
   "outputs": [
    {
     "data": {
      "text/plain": [
       "array([[1.e-12, 1.e-10],\n",
       "       [1.e-12, 1.e-10],\n",
       "       [1.e-12, 1.e-10],\n",
       "       [1.e-09, 1.e-07],\n",
       "       [1.e-09, 1.e-07]])"
      ]
     },
     "execution_count": 6,
     "metadata": {},
     "output_type": "execute_result"
    }
   ],
   "source": [
    "agent_quantity = 20\n",
    "space_dimention = 5\n",
    "agent_bound = np.zeros([num_component,2])\n",
    "for i in range(space_dimention):\n",
    "    if component_type[i] == 'C':\n",
    "        agent_bound[i] = range_C\n",
    "    else:\n",
    "        agent_bound[i] = range_L\n",
    "agent_bound"
   ]
  },
  {
   "cell_type": "markdown",
   "metadata": {},
   "source": [
    "### Second step\n",
    "Define a fitness function. In this case, it's the S11 at given frequency"
   ]
  },
  {
   "cell_type": "code",
   "execution_count": 7,
   "metadata": {},
   "outputs": [
    {
     "data": {
      "text/plain": [
       "0.0015327902737268806"
      ]
     },
     "execution_count": 7,
     "metadata": {},
     "output_type": "execute_result"
    }
   ],
   "source": [
    "def fitness(agent):\n",
    "    components = np.zeros([num_component,3])\n",
    "    for i in range(num_component):\n",
    "        # Component type\n",
    "        if component_type[i] == 'C':\n",
    "            components[i][0] = 0 # C\n",
    "        elif component_type[i] == 'L':\n",
    "            components[i][0] = 1 # L\n",
    "        else:\n",
    "            components[i][0] = 1 # R\n",
    "        # Component placement\n",
    "        if component_topology[i] == 'ser':\n",
    "            components[i][1] = 0\n",
    "        else:\n",
    "            components[i][1] = 1\n",
    "        # Component value\n",
    "        components[i][2] = agent[i]\n",
    "        \n",
    "    #print(components)\n",
    "    Z_out = out_impedance(num_component, components, freq, Z_load)\n",
    "    fitness = np.abs((Z_out - Z0)/(Z_out + Z0))\n",
    "    return 1 - fitness\n",
    "# Check fitness function\n",
    "fitness([10e-12, 20e-12, 30e-12, 40e-9, 50e-9])"
   ]
  },
  {
   "cell_type": "markdown",
   "metadata": {},
   "source": [
    "### Third step \n",
    "Initialize Random Swam Location and Velocities"
   ]
  },
  {
   "cell_type": "code",
   "execution_count": 8,
   "metadata": {},
   "outputs": [
    {
     "data": {
      "text/plain": [
       "array([[9.33761028e-11, 9.30628049e-11, 9.53496320e-11, 1.16626670e-08,\n",
       "        2.14570656e-08],\n",
       "       [9.30913425e-11, 6.15457494e-11, 1.69731336e-11, 6.75657522e-08,\n",
       "        7.02798670e-08],\n",
       "       [2.38345452e-11, 5.74721844e-11, 7.70198390e-12, 6.58136911e-08,\n",
       "        2.01834331e-08],\n",
       "       [8.71495981e-11, 6.59069293e-11, 3.74343805e-11, 1.52350602e-08,\n",
       "        4.45111943e-08],\n",
       "       [4.85487518e-11, 4.06644835e-11, 1.64180158e-11, 2.37334524e-08,\n",
       "        1.14060926e-08],\n",
       "       [5.39246468e-11, 8.44712520e-11, 8.58564749e-11, 5.55696762e-08,\n",
       "        6.84239817e-08],\n",
       "       [3.21410426e-11, 2.37394247e-11, 9.88652610e-11, 8.65121768e-08,\n",
       "        2.83811558e-08],\n",
       "       [8.90756268e-11, 6.32183752e-11, 1.86746138e-12, 9.19370604e-08,\n",
       "        7.82354736e-08],\n",
       "       [2.66475261e-11, 6.00272279e-11, 7.74723053e-11, 1.29612212e-08,\n",
       "        8.33625880e-09],\n",
       "       [3.02828479e-11, 4.82861733e-11, 6.99553513e-11, 3.98890758e-08,\n",
       "        8.01971527e-08],\n",
       "       [2.28525031e-11, 8.20615876e-11, 8.03377745e-11, 3.42408622e-08,\n",
       "        7.67645774e-09],\n",
       "       [8.36579550e-11, 4.82534253e-11, 8.96532561e-11, 6.06980297e-08,\n",
       "        8.29824358e-08],\n",
       "       [3.21421311e-11, 1.89635258e-11, 8.35348935e-11, 5.54919721e-08,\n",
       "        2.80583033e-08],\n",
       "       [1.86598501e-11, 9.81976775e-12, 5.54679261e-11, 3.16712778e-08,\n",
       "        6.20719879e-08],\n",
       "       [8.69218966e-11, 6.07709672e-11, 1.10025622e-11, 4.05706012e-08,\n",
       "        5.51123615e-08],\n",
       "       [1.53263330e-11, 1.51264340e-11, 6.38138124e-12, 3.42411412e-08,\n",
       "        5.01298619e-08],\n",
       "       [6.71553015e-11, 2.23560919e-11, 9.34813435e-11, 2.46004988e-08,\n",
       "        4.98900605e-08],\n",
       "       [2.50441147e-12, 2.08846678e-11, 1.08857063e-11, 3.63996663e-08,\n",
       "        5.48998335e-08],\n",
       "       [1.52500134e-11, 7.71740067e-11, 1.96391329e-11, 1.97779979e-08,\n",
       "        3.31801867e-08],\n",
       "       [2.20128093e-11, 3.88931396e-11, 9.02785332e-11, 9.39295235e-08,\n",
       "        7.48457665e-08]])"
      ]
     },
     "execution_count": 8,
     "metadata": {},
     "output_type": "execute_result"
    }
   ],
   "source": [
    "agent_location = np.zeros([agent_quantity, space_dimention])\n",
    "for i in range(space_dimention):\n",
    "    if component_type[i] == 'C':\n",
    "        for j in range(agent_quantity):\n",
    "            agent_location[j][i] = range_distance_C*np.random.rand()+range_C[0]\n",
    "    elif component_type[i] == 'L':\n",
    "        for j in range(agent_quantity):\n",
    "            agent_location[j][i] = range_distance_L*np.random.rand()+range_L[0]\n",
    "\n",
    "agent_location"
   ]
  },
  {
   "cell_type": "markdown",
   "metadata": {},
   "source": [
    "*pbest at first is also the first swam*"
   ]
  },
  {
   "cell_type": "code",
   "execution_count": 9,
   "metadata": {},
   "outputs": [],
   "source": [
    "agent_pbest = agent_location"
   ]
  },
  {
   "cell_type": "code",
   "execution_count": 10,
   "metadata": {},
   "outputs": [
    {
     "data": {
      "text/plain": [
       "array([[7.99721522e-11, 8.69516056e-11, 2.23561476e-11, 4.54898013e-08,\n",
       "        5.80619625e-08],\n",
       "       [3.90262748e-11, 2.54955140e-11, 1.13224841e-11, 6.31485722e-08,\n",
       "        2.82609509e-08],\n",
       "       [5.45221494e-11, 6.84244140e-11, 3.89149012e-11, 2.70951669e-09,\n",
       "        8.58023109e-08],\n",
       "       [1.01391932e-11, 1.66659658e-11, 4.89205796e-11, 4.21899092e-08,\n",
       "        9.21778499e-08],\n",
       "       [3.23207101e-12, 4.84033109e-11, 4.04050937e-11, 2.71011697e-08,\n",
       "        7.44172603e-08],\n",
       "       [4.11916103e-11, 8.86404290e-11, 6.99503535e-11, 6.64734389e-09,\n",
       "        4.68225068e-08],\n",
       "       [1.92757090e-11, 8.84306363e-11, 4.87584463e-11, 6.33205619e-08,\n",
       "        6.29920250e-08],\n",
       "       [7.19198750e-11, 7.99448223e-11, 2.36241356e-11, 3.12329983e-08,\n",
       "        4.61812051e-08],\n",
       "       [2.00389119e-11, 9.68816558e-11, 9.32581551e-11, 6.41284088e-08,\n",
       "        6.75756410e-08],\n",
       "       [4.64869220e-11, 6.09687534e-11, 9.32230942e-11, 8.42113247e-08,\n",
       "        6.11768708e-08],\n",
       "       [6.49229127e-11, 3.23995324e-11, 9.30034094e-12, 8.71754082e-08,\n",
       "        8.75632461e-08],\n",
       "       [2.71985469e-11, 1.32831121e-11, 7.93454912e-11, 5.19855619e-09,\n",
       "        9.34865814e-08],\n",
       "       [1.58157198e-11, 2.75514968e-11, 4.97807011e-11, 1.07661217e-08,\n",
       "        7.35470029e-08],\n",
       "       [5.34728358e-11, 5.64002845e-11, 3.08190285e-11, 6.53373710e-08,\n",
       "        9.10811640e-08],\n",
       "       [3.43069044e-11, 6.90312421e-11, 4.28880626e-11, 5.16613738e-08,\n",
       "        5.88554816e-09],\n",
       "       [4.74931476e-11, 9.19275761e-11, 3.13308936e-11, 5.81880958e-08,\n",
       "        7.09841441e-08],\n",
       "       [4.35254778e-11, 6.44539996e-11, 9.88934820e-11, 5.07629052e-08,\n",
       "        2.08698009e-08],\n",
       "       [1.00445856e-11, 8.15508272e-11, 8.88527618e-11, 5.66188684e-08,\n",
       "        4.46524089e-08],\n",
       "       [9.73662668e-11, 4.57786158e-11, 6.60510522e-11, 2.13105868e-08,\n",
       "        7.75136331e-08],\n",
       "       [6.78036469e-11, 1.61354957e-11, 9.84520405e-11, 9.36821154e-08,\n",
       "        2.88945494e-08]])"
      ]
     },
     "execution_count": 10,
     "metadata": {},
     "output_type": "execute_result"
    }
   ],
   "source": [
    "agent_velocity = np.zeros([agent_quantity, space_dimention])\n",
    "for i in range(space_dimention):\n",
    "    if component_type[i] == 'C':\n",
    "        for j in range(agent_quantity):\n",
    "            agent_velocity[j][i] = range_distance_C*np.random.rand()+range_C[0]\n",
    "    elif component_type[i] == 'L':\n",
    "        for j in range(agent_quantity):\n",
    "            agent_velocity[j][i] = range_distance_L*np.random.rand()+range_L[0]\n",
    "\n",
    "agent_velocity"
   ]
  },
  {
   "cell_type": "markdown",
   "metadata": {},
   "source": [
    "### Fourth step\n",
    "Systematically Fly the Particles Through the Solution Space\n",
    "\n",
    "a) Evaluate the Particles's Fitness, Compare to gbest, pbest"
   ]
  },
  {
   "cell_type": "code",
   "execution_count": 11,
   "metadata": {},
   "outputs": [
    {
     "data": {
      "text/plain": [
       "array([[7.90234997e-04],\n",
       "       [1.81054276e-04],\n",
       "       [2.71820275e-03],\n",
       "       [4.19106410e-04],\n",
       "       [1.41344750e-02],\n",
       "       [9.30283074e-05],\n",
       "       [5.42175913e-03],\n",
       "       [2.74741694e-04],\n",
       "       [6.96729028e-03],\n",
       "       [1.91126450e-04],\n",
       "       [3.63928771e-03],\n",
       "       [1.94273874e-04],\n",
       "       [8.35754799e-03],\n",
       "       [4.08868863e-03],\n",
       "       [3.40631220e-04],\n",
       "       [4.64701900e-03],\n",
       "       [2.39575421e-03],\n",
       "       [2.44907070e-04],\n",
       "       [4.36117792e-04],\n",
       "       [2.95669722e-04]])"
      ]
     },
     "execution_count": 11,
     "metadata": {},
     "output_type": "execute_result"
    }
   ],
   "source": [
    "agent_fitness = np.zeros([agent_quantity,1])\n",
    "pbest = np.zeros([agent_quantity,1])\n",
    "\n",
    "for i in range(0,agent_quantity):\n",
    "    agent_fitness[i] = fitness(agent_location[i])\n",
    "    if agent_fitness[i] > pbest[i]:\n",
    "            pbest[i] = agent_fitness[i]\n",
    "            agent_pbest[i] = agent_location[i]\n",
    "    \n",
    "pbest"
   ]
  },
  {
   "cell_type": "code",
   "execution_count": 12,
   "metadata": {},
   "outputs": [
    {
     "name": "stdout",
     "output_type": "stream",
     "text": [
      "\n",
      " Global best 0.014134474951247977\n",
      "\n",
      " Global best position 4\n",
      "\n",
      " Agent at best position [4.85487518e-11 4.06644835e-11 1.64180158e-11 2.37334524e-08\n",
      " 1.14060926e-08]\n"
     ]
    }
   ],
   "source": [
    "gbest = np.zeros(1)\n",
    "gbest[0] = pbest.max()\n",
    "gbest_position = pbest.argmax()\n",
    "print('\\n Global best', gbest[0])\n",
    "print('\\n Global best position', gbest_position)\n",
    "print('\\n Agent at best position', agent_pbest[gbest_position])"
   ]
  },
  {
   "cell_type": "markdown",
   "metadata": {},
   "source": [
    "b) Update the Particle's velocity "
   ]
  },
  {
   "cell_type": "code",
   "execution_count": 13,
   "metadata": {},
   "outputs": [
    {
     "data": {
      "text/plain": [
       "array([[-1.21780542e-11, -1.61929825e-11, -5.69804538e-11,\n",
       "         2.33864560e-08,  9.30879265e-09],\n",
       "       [-1.19333166e-11, -3.43418032e-12,  3.10211371e-12,\n",
       "        -4.31963700e-09, -2.27692600e-08],\n",
       "       [ 5.74338345e-11, -7.40855602e-12,  2.61612836e-11,\n",
       "        -6.91282107e-08,  1.11519798e-08],\n",
       "       [-1.30606753e-11, -5.53015552e-12,  5.90914820e-12,\n",
       "         1.62020969e-08,  1.38434844e-08],\n",
       "       [ 9.69621304e-13,  1.45209933e-11,  1.21215281e-11,\n",
       "         8.13035092e-09,  2.23251781e-08],\n",
       "       [ 8.70154172e-12, -3.19918565e-12, -2.62373447e-11,\n",
       "        -1.96563998e-08, -2.47289422e-08],\n",
       "       [ 3.14064367e-11,  5.29608536e-11, -1.14129346e-10,\n",
       "        -7.90446171e-08, -7.61214634e-09],\n",
       "       [ 1.18195873e-11,  1.85538588e-11,  1.05901179e-11,\n",
       "        -7.04932827e-09, -2.23403701e-09],\n",
       "       [ 1.73251947e-11,  1.90622795e-11, -3.56138153e-12,\n",
       "         2.48031365e-08,  2.18584770e-08],\n",
       "       [ 3.00145744e-11,  1.15858330e-11, -1.91298132e-11,\n",
       "         1.10513113e-08, -4.21623668e-08],\n",
       "       [ 4.24863405e-11, -2.73487918e-11, -5.44462507e-11,\n",
       "         1.67438602e-08,  2.96086407e-08],\n",
       "       [-4.29344374e-11, -7.05916210e-12, -8.27747176e-11,\n",
       "        -5.22345382e-08, -7.61182176e-08],\n",
       "       [ 2.16847189e-11,  3.06719089e-11, -5.43646492e-11,\n",
       "        -2.95611584e-08,  4.87052375e-09],\n",
       "       [ 2.41571009e-11,  2.52948522e-11, -1.35688215e-12,\n",
       "         1.74459819e-08,  1.35678580e-08],\n",
       "       [-4.50534171e-11, -8.29015720e-12,  2.06771136e-11,\n",
       "        -8.78576433e-09, -6.12717751e-08],\n",
       "       [ 1.97271332e-11,  3.17901214e-11,  1.10545544e-11,\n",
       "         1.57234540e-08,  1.49087471e-08],\n",
       "       [-1.75532777e-11,  4.94566006e-11, -9.71141629e-11,\n",
       "         1.38024336e-08, -5.70516956e-08],\n",
       "       [ 1.20168136e-11,  2.83329622e-11,  2.77376077e-11,\n",
       "         1.45089290e-08,  4.89102495e-09],\n",
       "       [ 3.58164170e-11,  6.49002163e-12,  1.91762395e-11,\n",
       "         7.17794620e-09,  1.89340657e-08],\n",
       "       [ 2.09824731e-11,  4.88346245e-12,  2.77503886e-11,\n",
       "         2.64079815e-08,  7.13501514e-09]])"
      ]
     },
     "execution_count": 13,
     "metadata": {},
     "output_type": "execute_result"
    }
   ],
   "source": [
    "for i in range(agent_quantity):\n",
    "    agent_velocity[i] = w*agent_velocity[i] + c1*np.random.rand()*(agent_pbest[i] - agent_location[i]) + c2*np.random.rand()*(agent_pbest[gbest_position]- agent_location[i])\n",
    "    \n",
    "agent_velocity"
   ]
  },
  {
   "cell_type": "markdown",
   "metadata": {},
   "source": [
    "c) Move the particle"
   ]
  },
  {
   "cell_type": "code",
   "execution_count": 14,
   "metadata": {},
   "outputs": [
    {
     "data": {
      "text/plain": [
       "array([[8.11980486e-11, 7.68698224e-11, 3.83691782e-11, 3.50491230e-08,\n",
       "        3.07658583e-08],\n",
       "       [8.11580259e-11, 5.81115691e-11, 2.00752473e-11, 6.32461152e-08,\n",
       "        4.75106070e-08],\n",
       "       [8.12683798e-11, 5.00636283e-11, 3.38632675e-11, 5.31451962e-09,\n",
       "        3.13354128e-08],\n",
       "       [7.40889228e-11, 6.03767738e-11, 4.33435287e-11, 3.14371572e-08,\n",
       "        5.83546787e-08],\n",
       "       [4.95183731e-11, 5.51854768e-11, 2.85395439e-11, 3.18638033e-08,\n",
       "        3.37312707e-08],\n",
       "       [6.26261885e-11, 8.12720663e-11, 5.96191302e-11, 3.59132764e-08,\n",
       "        4.36950395e-08],\n",
       "       [6.35474793e-11, 7.67002783e-11, 1.72640854e-11, 7.46755967e-09,\n",
       "        2.07690094e-08],\n",
       "       [9.91047859e-11, 8.17722340e-11, 1.24575793e-11, 8.48877321e-08,\n",
       "        7.60014366e-08],\n",
       "       [4.39727208e-11, 7.90895074e-11, 7.39109238e-11, 3.77643577e-08,\n",
       "        3.01947358e-08],\n",
       "       [6.02974223e-11, 5.98720063e-11, 5.08255380e-11, 5.09403872e-08,\n",
       "        3.80347859e-08],\n",
       "       [6.53388437e-11, 5.47127958e-11, 2.58915238e-11, 5.09847224e-08,\n",
       "        3.72850984e-08],\n",
       "       [4.07235176e-11, 4.11942632e-11, 6.87853844e-12, 8.46349150e-09,\n",
       "        6.86421821e-09],\n",
       "       [5.38268500e-11, 4.96354347e-11, 2.91702443e-11, 2.59308137e-08,\n",
       "        3.29288271e-08],\n",
       "       [4.28169510e-11, 3.51146200e-11, 5.41110440e-11, 4.91172597e-08,\n",
       "        7.56398458e-08],\n",
       "       [4.18684796e-11, 5.24808100e-11, 3.16796758e-11, 3.17848368e-08,\n",
       "        8.15941358e-09],\n",
       "       [3.50534662e-11, 4.69165554e-11, 1.74359357e-11, 4.99645952e-08,\n",
       "        6.50386090e-08],\n",
       "       [4.96020238e-11, 7.18126925e-11, 5.63281938e-12, 3.84029324e-08,\n",
       "        9.16163506e-09],\n",
       "       [1.45212251e-11, 4.92176301e-11, 3.86233139e-11, 5.09085952e-08,\n",
       "        5.97908585e-08],\n",
       "       [5.10664303e-11, 8.36640283e-11, 3.88153724e-11, 2.69559441e-08,\n",
       "        5.21142524e-08],\n",
       "       [4.29952824e-11, 4.37766021e-11, 8.19710782e-11, 7.96624950e-08,\n",
       "        8.19807816e-08]])"
      ]
     },
     "execution_count": 14,
     "metadata": {},
     "output_type": "execute_result"
    }
   ],
   "source": [
    "agent_location = agent_location + agent_velocity\n",
    "for i in range(agent_quantity):\n",
    "    for j in range(space_dimention):\n",
    "        if agent_location[i][j] > agent_bound[j][1]:\n",
    "            agent_location[i][j] = 2*agent_bound[j][1] - agent_location[i][j]\n",
    "        if agent_location[i][j] < agent_bound[j][0]:\n",
    "            agent_location[i][j] = 2*agent_bound[j][0] - agent_location[i][j]\n",
    "        \n",
    "agent_location"
   ]
  },
  {
   "cell_type": "markdown",
   "metadata": {},
   "source": [
    "### Fifth step\n",
    "Repeat everything in Step 4 untill iteration being out of range "
   ]
  },
  {
   "cell_type": "code",
   "execution_count": 15,
   "metadata": {},
   "outputs": [
    {
     "name": "stdout",
     "output_type": "stream",
     "text": [
      "Converged!!! Hura!!\n",
      "\n",
      " Agent at best position [2.05182672e-11 5.44973718e-12 1.66649375e-11 4.74428257e-09\n",
      " 2.40034367e-09]\n",
      "Gbest value is  0.9900300609594072\n"
     ]
    }
   ],
   "source": [
    "converge_flag = 0\n",
    "for k in range(max_iter):\n",
    "    if gbest[k] > 0.99:\n",
    "        converge_flag = 1\n",
    "        print('Converged!!! Hura!!')\n",
    "        break\n",
    "    # Step 4a\n",
    "    for i in range(agent_quantity):\n",
    "        agent_fitness[i] = fitness(agent_location[i])\n",
    "        if agent_fitness[i] > pbest[i]:\n",
    "            pbest[i] = agent_fitness[i]\n",
    "            agent_pbest[i] = agent_location[i]\n",
    "    \n",
    "    gbest = np.append(gbest, pbest.max())\n",
    "    gbest_position = pbest.argmax()\n",
    "    # Step 4b\n",
    "    for i in range(agent_quantity):\n",
    "        agent_velocity[i] = w*agent_velocity[i] + c1*np.random.rand()*(agent_pbest[i] - agent_location[i]) + c2*np.random.rand()*(agent_pbest[gbest_position]- agent_location[i])\n",
    "    \n",
    "    # Step 4c\n",
    "    agent_location = agent_location + agent_velocity\n",
    "    for i in range(agent_quantity):\n",
    "        for j in range(space_dimention):\n",
    "            if agent_location[i][j] > agent_bound[j][1]:\n",
    "                agent_location[i][j] = 2*agent_bound[j][1] - agent_location[i][j]\n",
    "            if agent_location[i][j] < agent_bound[j][0]:\n",
    "                agent_location[i][j] = 2*agent_bound[j][0] - agent_location[i][j]\n",
    "    #print('Iteration: ', k)\n",
    "    #print('Gbest in this iteration: ', gbest)\n",
    "\n",
    "if converge_flag == 0:\n",
    "    k +=1 \n",
    "print('\\n Agent at best position', agent_pbest[gbest_position])            \n",
    "print('Gbest value is ', gbest[k])"
   ]
  },
  {
   "cell_type": "markdown",
   "metadata": {},
   "source": [
    "-----------------------------------------------------------\n",
    "# III. Result\n",
    "Final result is shown here, good or not, it've already taken a lot of time. Let's try to draw a graph to see the convergence progress"
   ]
  },
  {
   "cell_type": "code",
   "execution_count": 16,
   "metadata": {},
   "outputs": [
    {
     "data": {
      "image/png": "[encoded data removed]",
      "text/plain": [
       "<Figure size 432x288 with 1 Axes>"
      ]
     },
     "metadata": {},
     "output_type": "display_data"
    }
   ],
   "source": [
    "iterate = np.arange(k+1)\n",
    "plt.plot(iterate,gbest)\n",
    "plt.xlabel('iterations(n)')\n",
    "plt.ylabel('gbest')\n",
    "plt.show()"
   ]
  },
  {
   "cell_type": "code",
   "execution_count": 17,
   "metadata": {},
   "outputs": [
    {
     "name": "stdout",
     "output_type": "stream",
     "text": [
      "Z output is  (49.73483033085407-0.9583885557324834j)\n"
     ]
    }
   ],
   "source": [
    "agent_gbest = agent_pbest[gbest_position]\n",
    "components = np.zeros([num_component,3])\n",
    "for i in range(num_component):\n",
    "    # Component type\n",
    "    if component_type[i] == 'C':\n",
    "        components[i][0] = 0 # C\n",
    "    elif component_type[i] == 'L':\n",
    "        components[i][0] = 1 # L\n",
    "    else:\n",
    "        components[i][0] = 1 # R\n",
    "    # Component placement\n",
    "    if component_topology[i] == 'ser':\n",
    "        components[i][1] = 0\n",
    "    else:\n",
    "        components[i][1] = 1\n",
    "    # Component value\n",
    "    components[i][2] = agent_gbest[i]\n",
    "        \n",
    "#print(components)\n",
    "Z_out = out_impedance(num_component, components, freq, Z_load)\n",
    "print('Z output is ', Z_out)"
   ]
  },
  {
   "cell_type": "code",
   "execution_count": null,
   "metadata": {},
   "outputs": [],
   "source": []
  }
 ],
 "metadata": {
  "kernelspec": {
   "display_name": "Python 3",
   "language": "python",
   "name": "python3"
  },
  "language_info": {
   "codemirror_mode": {
    "name": "ipython",
    "version": 3
   },
   "file_extension": ".py",
   "mimetype": "text/x-python",
   "name": "python",
   "nbconvert_exporter": "python",
   "pygments_lexer": "ipython3",
   "version": "3.6.5"
  }
 },
 "nbformat": 4,
 "nbformat_minor": 2
}
